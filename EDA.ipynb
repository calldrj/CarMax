{
 "cells": [
  {
   "cell_type": "code",
   "execution_count": 1,
   "metadata": {},
   "outputs": [
    {
     "data": {
      "text/html": [
       "<div>\n",
       "<style scoped>\n",
       "    .dataframe tbody tr th:only-of-type {\n",
       "        vertical-align: middle;\n",
       "    }\n",
       "\n",
       "    .dataframe tbody tr th {\n",
       "        vertical-align: top;\n",
       "    }\n",
       "\n",
       "    .dataframe thead th {\n",
       "        text-align: right;\n",
       "    }\n",
       "</style>\n",
       "<table border=\"1\" class=\"dataframe\">\n",
       "  <thead>\n",
       "    <tr style=\"text-align: right;\">\n",
       "      <th></th>\n",
       "      <th>Make</th>\n",
       "      <th>Model</th>\n",
       "      <th>Years</th>\n",
       "      <th>Price</th>\n",
       "      <th>Trade_In</th>\n",
       "      <th>Financed</th>\n",
       "      <th>Age</th>\n",
       "      <th>Income</th>\n",
       "      <th>Gender</th>\n",
       "      <th>Returned</th>\n",
       "      <th>Distance</th>\n",
       "      <th>Rate</th>\n",
       "      <th>Warranty</th>\n",
       "      <th>Multiple_Buys</th>\n",
       "    </tr>\n",
       "  </thead>\n",
       "  <tbody>\n",
       "    <tr>\n",
       "      <th>0</th>\n",
       "      <td>DODG</td>\n",
       "      <td>CHARGER</td>\n",
       "      <td>2</td>\n",
       "      <td>17.5</td>\n",
       "      <td>1</td>\n",
       "      <td>1</td>\n",
       "      <td>25</td>\n",
       "      <td>50.0</td>\n",
       "      <td>U</td>\n",
       "      <td>0</td>\n",
       "      <td>8</td>\n",
       "      <td>9</td>\n",
       "      <td>0</td>\n",
       "      <td>1</td>\n",
       "    </tr>\n",
       "    <tr>\n",
       "      <th>1</th>\n",
       "      <td>FORD</td>\n",
       "      <td>F150</td>\n",
       "      <td>7</td>\n",
       "      <td>17.5</td>\n",
       "      <td>0</td>\n",
       "      <td>0</td>\n",
       "      <td>55</td>\n",
       "      <td>10.0</td>\n",
       "      <td>F</td>\n",
       "      <td>1</td>\n",
       "      <td>19</td>\n",
       "      <td>10</td>\n",
       "      <td>0</td>\n",
       "      <td>0</td>\n",
       "    </tr>\n",
       "    <tr>\n",
       "      <th>2</th>\n",
       "      <td>BMW</td>\n",
       "      <td>328</td>\n",
       "      <td>4</td>\n",
       "      <td>27.5</td>\n",
       "      <td>1</td>\n",
       "      <td>1</td>\n",
       "      <td>45</td>\n",
       "      <td>70.0</td>\n",
       "      <td>F</td>\n",
       "      <td>1</td>\n",
       "      <td>21</td>\n",
       "      <td>10</td>\n",
       "      <td>0</td>\n",
       "      <td>0</td>\n",
       "    </tr>\n",
       "    <tr>\n",
       "      <th>3</th>\n",
       "      <td>LEXU</td>\n",
       "      <td>GS 300</td>\n",
       "      <td>11</td>\n",
       "      <td>12.5</td>\n",
       "      <td>0</td>\n",
       "      <td>1</td>\n",
       "      <td>25</td>\n",
       "      <td>30.0</td>\n",
       "      <td>M</td>\n",
       "      <td>0</td>\n",
       "      <td>8</td>\n",
       "      <td>10</td>\n",
       "      <td>0</td>\n",
       "      <td>0</td>\n",
       "    </tr>\n",
       "    <tr>\n",
       "      <th>4</th>\n",
       "      <td>CHEV</td>\n",
       "      <td>CRUZE</td>\n",
       "      <td>2</td>\n",
       "      <td>17.5</td>\n",
       "      <td>1</td>\n",
       "      <td>1</td>\n",
       "      <td>35</td>\n",
       "      <td>130.0</td>\n",
       "      <td>M</td>\n",
       "      <td>1</td>\n",
       "      <td>5</td>\n",
       "      <td>9</td>\n",
       "      <td>1</td>\n",
       "      <td>1</td>\n",
       "    </tr>\n",
       "    <tr>\n",
       "      <th>...</th>\n",
       "      <td>...</td>\n",
       "      <td>...</td>\n",
       "      <td>...</td>\n",
       "      <td>...</td>\n",
       "      <td>...</td>\n",
       "      <td>...</td>\n",
       "      <td>...</td>\n",
       "      <td>...</td>\n",
       "      <td>...</td>\n",
       "      <td>...</td>\n",
       "      <td>...</td>\n",
       "      <td>...</td>\n",
       "      <td>...</td>\n",
       "      <td>...</td>\n",
       "    </tr>\n",
       "    <tr>\n",
       "      <th>355868</th>\n",
       "      <td>JEEP</td>\n",
       "      <td>LIBERTY</td>\n",
       "      <td>4</td>\n",
       "      <td>17.5</td>\n",
       "      <td>0</td>\n",
       "      <td>1</td>\n",
       "      <td>25</td>\n",
       "      <td>30.0</td>\n",
       "      <td>F</td>\n",
       "      <td>0</td>\n",
       "      <td>13</td>\n",
       "      <td>9</td>\n",
       "      <td>0</td>\n",
       "      <td>0</td>\n",
       "    </tr>\n",
       "    <tr>\n",
       "      <th>355869</th>\n",
       "      <td>CHEV</td>\n",
       "      <td>SONIC</td>\n",
       "      <td>2</td>\n",
       "      <td>12.5</td>\n",
       "      <td>1</td>\n",
       "      <td>0</td>\n",
       "      <td>75</td>\n",
       "      <td>30.0</td>\n",
       "      <td>U</td>\n",
       "      <td>0</td>\n",
       "      <td>2</td>\n",
       "      <td>10</td>\n",
       "      <td>0</td>\n",
       "      <td>0</td>\n",
       "    </tr>\n",
       "    <tr>\n",
       "      <th>355870</th>\n",
       "      <td>KIA</td>\n",
       "      <td>SORENTO</td>\n",
       "      <td>2</td>\n",
       "      <td>17.5</td>\n",
       "      <td>1</td>\n",
       "      <td>1</td>\n",
       "      <td>65</td>\n",
       "      <td>30.0</td>\n",
       "      <td>F</td>\n",
       "      <td>1</td>\n",
       "      <td>9</td>\n",
       "      <td>10</td>\n",
       "      <td>0</td>\n",
       "      <td>1</td>\n",
       "    </tr>\n",
       "    <tr>\n",
       "      <th>355871</th>\n",
       "      <td>NISS</td>\n",
       "      <td>350Z</td>\n",
       "      <td>11</td>\n",
       "      <td>12.5</td>\n",
       "      <td>0</td>\n",
       "      <td>1</td>\n",
       "      <td>25</td>\n",
       "      <td>50.0</td>\n",
       "      <td>M</td>\n",
       "      <td>0</td>\n",
       "      <td>5</td>\n",
       "      <td>10</td>\n",
       "      <td>0</td>\n",
       "      <td>0</td>\n",
       "    </tr>\n",
       "    <tr>\n",
       "      <th>355872</th>\n",
       "      <td>CHEV</td>\n",
       "      <td>MALIBU</td>\n",
       "      <td>2</td>\n",
       "      <td>17.5</td>\n",
       "      <td>1</td>\n",
       "      <td>1</td>\n",
       "      <td>35</td>\n",
       "      <td>150.0</td>\n",
       "      <td>M</td>\n",
       "      <td>0</td>\n",
       "      <td>9</td>\n",
       "      <td>8</td>\n",
       "      <td>0</td>\n",
       "      <td>0</td>\n",
       "    </tr>\n",
       "  </tbody>\n",
       "</table>\n",
       "<p>355873 rows × 14 columns</p>\n",
       "</div>"
      ],
      "text/plain": [
       "        Make    Model  Years  Price  Trade_In  Financed  Age  Income Gender  \\\n",
       "0       DODG  CHARGER      2   17.5         1         1   25    50.0      U   \n",
       "1       FORD     F150      7   17.5         0         0   55    10.0      F   \n",
       "2        BMW      328      4   27.5         1         1   45    70.0      F   \n",
       "3       LEXU   GS 300     11   12.5         0         1   25    30.0      M   \n",
       "4       CHEV    CRUZE      2   17.5         1         1   35   130.0      M   \n",
       "...      ...      ...    ...    ...       ...       ...  ...     ...    ...   \n",
       "355868  JEEP  LIBERTY      4   17.5         0         1   25    30.0      F   \n",
       "355869  CHEV    SONIC      2   12.5         1         0   75    30.0      U   \n",
       "355870   KIA  SORENTO      2   17.5         1         1   65    30.0      F   \n",
       "355871  NISS     350Z     11   12.5         0         1   25    50.0      M   \n",
       "355872  CHEV   MALIBU      2   17.5         1         1   35   150.0      M   \n",
       "\n",
       "        Returned  Distance  Rate  Warranty  Multiple_Buys  \n",
       "0              0         8     9         0              1  \n",
       "1              1        19    10         0              0  \n",
       "2              1        21    10         0              0  \n",
       "3              0         8    10         0              0  \n",
       "4              1         5     9         1              1  \n",
       "...          ...       ...   ...       ...            ...  \n",
       "355868         0        13     9         0              0  \n",
       "355869         0         2    10         0              0  \n",
       "355870         1         9    10         0              1  \n",
       "355871         0         5    10         0              0  \n",
       "355872         0         9     8         0              0  \n",
       "\n",
       "[355873 rows x 14 columns]"
      ]
     },
     "execution_count": 1,
     "metadata": {},
     "output_type": "execute_result"
    }
   ],
   "source": [
    "import pandas as pd\n",
    "import numpy as np\n",
    "import seaborn as sns\n",
    "import matplotlib.pyplot as plt\n",
    "\n",
    "def missing_count(data, col):\n",
    "    return data[data[col]=='?'][col].count()\n",
    "\n",
    "def val_count(data, key, plot=True, step=0.5, plotsize=(8,8)):\n",
    "    precision = 1\n",
    "    counts = data.value_counts(normalize=True) * 100\n",
    "    l = len(counts.index) \n",
    "    t = 'Market Share Among {} {} (%)'.format(l, key)\n",
    "    x = np.arange(step, counts.values.max(), step)\n",
    "    if (plot):\n",
    "        counts.plot(kind='barh', figsize=plotsize, title=t, xticks=x)\n",
    "        plt.show()\n",
    "    else:\n",
    "        print(t)\n",
    "    print(round(counts, precision))\n",
    "\n",
    "df = pd.read_csv('cleaned_dataset.csv')\n",
    "df"
   ]
  },
  {
   "cell_type": "code",
   "execution_count": 2,
   "metadata": {},
   "outputs": [
    {
     "name": "stdout",
     "output_type": "stream",
     "text": [
      "<class 'pandas.core.frame.DataFrame'>\n",
      "RangeIndex: 355873 entries, 0 to 355872\n",
      "Data columns (total 14 columns):\n",
      " #   Column         Non-Null Count   Dtype  \n",
      "---  ------         --------------   -----  \n",
      " 0   Make           355873 non-null  object \n",
      " 1   Model          355873 non-null  object \n",
      " 2   Years          355873 non-null  int64  \n",
      " 3   Price          355873 non-null  float64\n",
      " 4   Trade_In       355873 non-null  int64  \n",
      " 5   Financed       355873 non-null  int64  \n",
      " 6   Age            355873 non-null  int64  \n",
      " 7   Income         355873 non-null  float64\n",
      " 8   Gender         355873 non-null  object \n",
      " 9   Returned       355873 non-null  int64  \n",
      " 10  Distance       355873 non-null  int64  \n",
      " 11  Rate           355873 non-null  int64  \n",
      " 12  Warranty       355873 non-null  int64  \n",
      " 13  Multiple_Buys  355873 non-null  int64  \n",
      "dtypes: float64(2), int64(9), object(3)\n",
      "memory usage: 38.0+ MB\n"
     ]
    }
   ],
   "source": [
    "df.info()"
   ]
  },
  {
   "cell_type": "code",
   "execution_count": 3,
   "metadata": {},
   "outputs": [
    {
     "data": {
      "text/html": [
       "<div>\n",
       "<style scoped>\n",
       "    .dataframe tbody tr th:only-of-type {\n",
       "        vertical-align: middle;\n",
       "    }\n",
       "\n",
       "    .dataframe tbody tr th {\n",
       "        vertical-align: top;\n",
       "    }\n",
       "\n",
       "    .dataframe thead th {\n",
       "        text-align: right;\n",
       "    }\n",
       "</style>\n",
       "<table border=\"1\" class=\"dataframe\">\n",
       "  <thead>\n",
       "    <tr style=\"text-align: right;\">\n",
       "      <th></th>\n",
       "      <th>Years</th>\n",
       "      <th>Price</th>\n",
       "      <th>Trade_In</th>\n",
       "      <th>Financed</th>\n",
       "      <th>Age</th>\n",
       "      <th>Income</th>\n",
       "      <th>Returned</th>\n",
       "      <th>Distance</th>\n",
       "      <th>Rate</th>\n",
       "      <th>Warranty</th>\n",
       "      <th>Multiple_Buys</th>\n",
       "    </tr>\n",
       "  </thead>\n",
       "  <tbody>\n",
       "    <tr>\n",
       "      <th>count</th>\n",
       "      <td>355873.000000</td>\n",
       "      <td>355873.000000</td>\n",
       "      <td>355873.000000</td>\n",
       "      <td>355873.000000</td>\n",
       "      <td>355873.000000</td>\n",
       "      <td>355873.000000</td>\n",
       "      <td>355873.000000</td>\n",
       "      <td>355873.000000</td>\n",
       "      <td>355873.000000</td>\n",
       "      <td>355873.000000</td>\n",
       "      <td>355873.000000</td>\n",
       "    </tr>\n",
       "    <tr>\n",
       "      <th>mean</th>\n",
       "      <td>4.472143</td>\n",
       "      <td>19.240776</td>\n",
       "      <td>0.466172</td>\n",
       "      <td>0.779343</td>\n",
       "      <td>41.593012</td>\n",
       "      <td>62.378348</td>\n",
       "      <td>0.204767</td>\n",
       "      <td>15.476833</td>\n",
       "      <td>9.319409</td>\n",
       "      <td>0.252101</td>\n",
       "      <td>0.533418</td>\n",
       "    </tr>\n",
       "    <tr>\n",
       "      <th>std</th>\n",
       "      <td>2.491923</td>\n",
       "      <td>7.426396</td>\n",
       "      <td>0.498855</td>\n",
       "      <td>0.414690</td>\n",
       "      <td>14.391849</td>\n",
       "      <td>45.714828</td>\n",
       "      <td>0.403532</td>\n",
       "      <td>65.049670</td>\n",
       "      <td>1.464976</td>\n",
       "      <td>0.434220</td>\n",
       "      <td>1.190329</td>\n",
       "    </tr>\n",
       "    <tr>\n",
       "      <th>min</th>\n",
       "      <td>0.000000</td>\n",
       "      <td>7.500000</td>\n",
       "      <td>0.000000</td>\n",
       "      <td>0.000000</td>\n",
       "      <td>20.000000</td>\n",
       "      <td>10.000000</td>\n",
       "      <td>0.000000</td>\n",
       "      <td>0.000000</td>\n",
       "      <td>0.000000</td>\n",
       "      <td>0.000000</td>\n",
       "      <td>0.000000</td>\n",
       "    </tr>\n",
       "    <tr>\n",
       "      <th>25%</th>\n",
       "      <td>3.000000</td>\n",
       "      <td>12.500000</td>\n",
       "      <td>0.000000</td>\n",
       "      <td>1.000000</td>\n",
       "      <td>25.000000</td>\n",
       "      <td>30.000000</td>\n",
       "      <td>0.000000</td>\n",
       "      <td>5.000000</td>\n",
       "      <td>9.000000</td>\n",
       "      <td>0.000000</td>\n",
       "      <td>0.000000</td>\n",
       "    </tr>\n",
       "    <tr>\n",
       "      <th>50%</th>\n",
       "      <td>4.000000</td>\n",
       "      <td>17.500000</td>\n",
       "      <td>0.000000</td>\n",
       "      <td>1.000000</td>\n",
       "      <td>35.000000</td>\n",
       "      <td>50.000000</td>\n",
       "      <td>0.000000</td>\n",
       "      <td>8.000000</td>\n",
       "      <td>10.000000</td>\n",
       "      <td>0.000000</td>\n",
       "      <td>0.000000</td>\n",
       "    </tr>\n",
       "    <tr>\n",
       "      <th>75%</th>\n",
       "      <td>6.000000</td>\n",
       "      <td>22.500000</td>\n",
       "      <td>1.000000</td>\n",
       "      <td>1.000000</td>\n",
       "      <td>55.000000</td>\n",
       "      <td>70.000000</td>\n",
       "      <td>0.000000</td>\n",
       "      <td>14.000000</td>\n",
       "      <td>10.000000</td>\n",
       "      <td>1.000000</td>\n",
       "      <td>1.000000</td>\n",
       "    </tr>\n",
       "    <tr>\n",
       "      <th>max</th>\n",
       "      <td>61.000000</td>\n",
       "      <td>92.500000</td>\n",
       "      <td>1.000000</td>\n",
       "      <td>1.000000</td>\n",
       "      <td>105.000000</td>\n",
       "      <td>210.000000</td>\n",
       "      <td>1.000000</td>\n",
       "      <td>2455.000000</td>\n",
       "      <td>10.000000</td>\n",
       "      <td>1.000000</td>\n",
       "      <td>10.000000</td>\n",
       "    </tr>\n",
       "  </tbody>\n",
       "</table>\n",
       "</div>"
      ],
      "text/plain": [
       "               Years          Price       Trade_In       Financed  \\\n",
       "count  355873.000000  355873.000000  355873.000000  355873.000000   \n",
       "mean        4.472143      19.240776       0.466172       0.779343   \n",
       "std         2.491923       7.426396       0.498855       0.414690   \n",
       "min         0.000000       7.500000       0.000000       0.000000   \n",
       "25%         3.000000      12.500000       0.000000       1.000000   \n",
       "50%         4.000000      17.500000       0.000000       1.000000   \n",
       "75%         6.000000      22.500000       1.000000       1.000000   \n",
       "max        61.000000      92.500000       1.000000       1.000000   \n",
       "\n",
       "                 Age         Income       Returned       Distance  \\\n",
       "count  355873.000000  355873.000000  355873.000000  355873.000000   \n",
       "mean       41.593012      62.378348       0.204767      15.476833   \n",
       "std        14.391849      45.714828       0.403532      65.049670   \n",
       "min        20.000000      10.000000       0.000000       0.000000   \n",
       "25%        25.000000      30.000000       0.000000       5.000000   \n",
       "50%        35.000000      50.000000       0.000000       8.000000   \n",
       "75%        55.000000      70.000000       0.000000      14.000000   \n",
       "max       105.000000     210.000000       1.000000    2455.000000   \n",
       "\n",
       "                Rate       Warranty  Multiple_Buys  \n",
       "count  355873.000000  355873.000000  355873.000000  \n",
       "mean        9.319409       0.252101       0.533418  \n",
       "std         1.464976       0.434220       1.190329  \n",
       "min         0.000000       0.000000       0.000000  \n",
       "25%         9.000000       0.000000       0.000000  \n",
       "50%        10.000000       0.000000       0.000000  \n",
       "75%        10.000000       1.000000       1.000000  \n",
       "max        10.000000       1.000000      10.000000  "
      ]
     },
     "execution_count": 3,
     "metadata": {},
     "output_type": "execute_result"
    }
   ],
   "source": [
    "df.describe()"
   ]
  },
  {
   "cell_type": "code",
   "execution_count": 4,
   "metadata": {},
   "outputs": [
    {
     "data": {
      "image/png": "[encoded data removed]",
      "text/plain": [
       "<Figure size 1152x1152 with 1 Axes>"
      ]
     },
     "metadata": {
      "needs_background": "light"
     },
     "output_type": "display_data"
    },
    {
     "name": "stdout",
     "output_type": "stream",
     "text": [
      "FORD    11.3\n",
      "TOYO    11.3\n",
      "NISS    11.0\n",
      "CHEV    10.6\n",
      "HOND     7.5\n",
      "DODG     5.7\n",
      "HYUN     4.0\n",
      "JEEP     3.3\n",
      "BMW      3.1\n",
      "VOLK     3.0\n",
      "MBZ      3.0\n",
      "MAZD     2.8\n",
      "CHRY     2.6\n",
      "KIA      2.6\n",
      "LEXU     2.5\n",
      "INFI     2.0\n",
      "GMC      1.6\n",
      "ACUR     1.3\n",
      "CADI     1.3\n",
      "AUDI     0.9\n",
      "BUIC     0.9\n",
      "MITS     0.8\n",
      "MINI     0.8\n",
      "SUBA     0.8\n",
      "LINC     0.8\n",
      "SCIO     0.6\n",
      "SATU     0.6\n",
      "PONT     0.6\n",
      "MERC     0.5\n",
      "VOLV     0.5\n",
      "SUZU     0.4\n",
      "LAND     0.3\n",
      "PORS     0.3\n",
      "FIAT     0.2\n",
      "HUMM     0.2\n",
      "SMAR     0.2\n",
      "JAGU     0.2\n",
      "ISUZ     0.0\n",
      "OLDS     0.0\n",
      "SAAB     0.0\n",
      "LOTU     0.0\n",
      "MASE     0.0\n",
      "BENT     0.0\n",
      "Name: Make, dtype: float64\n"
     ]
    }
   ],
   "source": [
    "val_count(df.Make, key='Makes', plotsize=(16,16))"
   ]
  },
  {
   "cell_type": "code",
   "execution_count": 5,
   "metadata": {},
   "outputs": [
    {
     "name": "stdout",
     "output_type": "stream",
     "text": [
      "Market Share Among 639 Models (%)\n",
      "ALTIMA          3.2\n",
      "CAMRY           2.7\n",
      "ACCORD          2.2\n",
      "MALIBU          2.0\n",
      "COROLLA         1.8\n",
      "               ... \n",
      "EUROVAN         0.0\n",
      "SUPRA           0.0\n",
      "JETTA HYBRID    0.0\n",
      "G500            0.0\n",
      "LW300           0.0\n",
      "Name: Model, Length: 639, dtype: float64\n"
     ]
    }
   ],
   "source": [
    "val_count(df.Model, key='Models', plot=False)"
   ]
  },
  {
   "cell_type": "code",
   "execution_count": 6,
   "metadata": {},
   "outputs": [
    {
     "data": {
      "image/png": "[encoded data removed]",
      "text/plain": [
       "<Figure size 864x864 with 1 Axes>"
      ]
     },
     "metadata": {
      "needs_background": "light"
     },
     "output_type": "display_data"
    },
    {
     "name": "stdout",
     "output_type": "stream",
     "text": [
      "4     19.2\n",
      "2     17.7\n",
      "3     17.2\n",
      "6      9.4\n",
      "7      8.1\n",
      "5      8.1\n",
      "1      6.5\n",
      "8      5.7\n",
      "9      3.5\n",
      "10     2.3\n",
      "11     1.4\n",
      "12     0.5\n",
      "0      0.3\n",
      "13     0.0\n",
      "14     0.0\n",
      "15     0.0\n",
      "19     0.0\n",
      "16     0.0\n",
      "18     0.0\n",
      "21     0.0\n",
      "26     0.0\n",
      "48     0.0\n",
      "17     0.0\n",
      "28     0.0\n",
      "29     0.0\n",
      "43     0.0\n",
      "45     0.0\n",
      "61     0.0\n",
      "Name: Years, dtype: float64\n"
     ]
    }
   ],
   "source": [
    "val_count(df.Years, key='Years', step=2.5, plotsize=(12,12))"
   ]
  },
  {
   "cell_type": "code",
   "execution_count": 7,
   "metadata": {},
   "outputs": [
    {
     "data": {
      "image/png": "[encoded data removed]",
      "text/plain": [
       "<Figure size 864x864 with 1 Axes>"
      ]
     },
     "metadata": {
      "needs_background": "light"
     },
     "output_type": "display_data"
    },
    {
     "name": "stdout",
     "output_type": "stream",
     "text": [
      "17.5    33.2\n",
      "12.5    28.4\n",
      "22.5    18.6\n",
      "27.5     9.1\n",
      "32.5     4.3\n",
      "7.5      2.6\n",
      "37.5     2.0\n",
      "42.5     0.9\n",
      "47.5     0.4\n",
      "52.5     0.2\n",
      "57.5     0.1\n",
      "62.5     0.1\n",
      "67.5     0.0\n",
      "72.5     0.0\n",
      "77.5     0.0\n",
      "87.5     0.0\n",
      "82.5     0.0\n",
      "92.5     0.0\n",
      "Name: Price, dtype: float64\n"
     ]
    }
   ],
   "source": [
    "val_count(df.Price, key='Prices', step=2.5, plotsize=(12,12))"
   ]
  },
  {
   "cell_type": "code",
   "execution_count": 8,
   "metadata": {},
   "outputs": [
    {
     "data": {
      "text/plain": [
       "0    53.4\n",
       "1    46.6\n",
       "Name: Trade_In, dtype: float64"
      ]
     },
     "execution_count": 8,
     "metadata": {},
     "output_type": "execute_result"
    }
   ],
   "source": [
    "round(df.Trade_In.value_counts(normalize=True) * 100, 1)"
   ]
  },
  {
   "cell_type": "code",
   "execution_count": 9,
   "metadata": {},
   "outputs": [
    {
     "data": {
      "text/plain": [
       "1    77.9\n",
       "0    22.1\n",
       "Name: Financed, dtype: float64"
      ]
     },
     "execution_count": 9,
     "metadata": {},
     "output_type": "execute_result"
    }
   ],
   "source": [
    "round(df.Financed.value_counts(normalize=True) * 100, 1)"
   ]
  },
  {
   "cell_type": "code",
   "execution_count": 10,
   "metadata": {},
   "outputs": [
    {
     "data": {
      "image/png": "[encoded data removed]",
      "text/plain": [
       "<Figure size 864x864 with 1 Axes>"
      ]
     },
     "metadata": {
      "needs_background": "light"
     },
     "output_type": "display_data"
    },
    {
     "name": "stdout",
     "output_type": "stream",
     "text": [
      "35     24.9\n",
      "45     23.8\n",
      "25     23.4\n",
      "55     15.4\n",
      "65      7.4\n",
      "75      2.3\n",
      "20      1.7\n",
      "85      0.6\n",
      "105     0.4\n",
      "95      0.0\n",
      "Name: Age, dtype: float64\n"
     ]
    }
   ],
   "source": [
    "val_count(df.Age, key='Ages', step=2.5, plotsize=(12,12))"
   ]
  },
  {
   "cell_type": "code",
   "execution_count": 11,
   "metadata": {},
   "outputs": [
    {
     "data": {
      "image/png": "[encoded data removed]",
      "text/plain": [
       "<Figure size 864x864 with 1 Axes>"
      ]
     },
     "metadata": {
      "needs_background": "light"
     },
     "output_type": "display_data"
    },
    {
     "name": "stdout",
     "output_type": "stream",
     "text": [
      "30.0     26.1\n",
      "50.0     24.9\n",
      "70.0     13.7\n",
      "10.0     10.5\n",
      "90.0      9.5\n",
      "110.0     5.1\n",
      "210.0     3.5\n",
      "150.0     2.4\n",
      "130.0     2.4\n",
      "170.0     1.2\n",
      "190.0     0.5\n",
      "Name: Income, dtype: float64\n"
     ]
    }
   ],
   "source": [
    "val_count(df.Income, key='Incomes', step=2.5, plotsize=(12,12))"
   ]
  },
  {
   "cell_type": "code",
   "execution_count": 12,
   "metadata": {},
   "outputs": [
    {
     "data": {
      "image/png": "[encoded data removed]",
      "text/plain": [
       "<Figure size 432x432 with 1 Axes>"
      ]
     },
     "metadata": {
      "needs_background": "light"
     },
     "output_type": "display_data"
    },
    {
     "name": "stdout",
     "output_type": "stream",
     "text": [
      "M    51.8\n",
      "F    38.2\n",
      "U     9.9\n",
      "Name: Gender, dtype: float64\n"
     ]
    }
   ],
   "source": [
    "val_count(df.Gender, key='Genders', step=5, plotsize=(6,6))"
   ]
  },
  {
   "cell_type": "code",
   "execution_count": 13,
   "metadata": {},
   "outputs": [
    {
     "data": {
      "text/plain": [
       "0    79.5\n",
       "1    20.5\n",
       "Name: Returned, dtype: float64"
      ]
     },
     "execution_count": 13,
     "metadata": {},
     "output_type": "execute_result"
    }
   ],
   "source": [
    "round(df.Returned.value_counts(normalize=True) * 100, 1)"
   ]
  },
  {
   "cell_type": "code",
   "execution_count": 14,
   "metadata": {},
   "outputs": [
    {
     "data": {
      "image/png": "[encoded data removed]",
      "text/plain": [
       "<Figure size 1152x576 with 1 Axes>"
      ]
     },
     "metadata": {
      "needs_background": "light"
     },
     "output_type": "display_data"
    }
   ],
   "source": [
    "plt.figure().set_size_inches(16, 8) \n",
    "plt.hist(df[df['Distance'] < 45]['Distance'], histtype='step', bins=10)\n",
    "plt.show()"
   ]
  },
  {
   "cell_type": "code",
   "execution_count": 15,
   "metadata": {},
   "outputs": [
    {
     "data": {
      "image/png": "[encoded data removed]",
      "text/plain": [
       "<Figure size 864x864 with 1 Axes>"
      ]
     },
     "metadata": {
      "needs_background": "light"
     },
     "output_type": "display_data"
    },
    {
     "name": "stdout",
     "output_type": "stream",
     "text": [
      "10    67.0\n",
      "9     18.5\n",
      "8      7.7\n",
      "7      2.8\n",
      "5      1.0\n",
      "6      1.0\n",
      "0      1.0\n",
      "4      0.5\n",
      "3      0.4\n",
      "1      0.1\n",
      "Name: Rate, dtype: float64\n"
     ]
    }
   ],
   "source": [
    "val_count(df.Rate, key='Satisfaction', step=5, plotsize=(12,12))"
   ]
  },
  {
   "cell_type": "code",
   "execution_count": 16,
   "metadata": {},
   "outputs": [
    {
     "data": {
      "text/plain": [
       "0    74.8\n",
       "1    25.2\n",
       "Name: Warranty, dtype: float64"
      ]
     },
     "execution_count": 16,
     "metadata": {},
     "output_type": "execute_result"
    }
   ],
   "source": [
    "round(df.Warranty.value_counts(normalize=True) * 100, 1)"
   ]
  },
  {
   "cell_type": "code",
   "execution_count": 17,
   "metadata": {},
   "outputs": [
    {
     "data": {
      "image/png": "[encoded data removed]",
      "text/plain": [
       "<Figure size 864x864 with 1 Axes>"
      ]
     },
     "metadata": {
      "needs_background": "light"
     },
     "output_type": "display_data"
    },
    {
     "name": "stdout",
     "output_type": "stream",
     "text": [
      "0     66.3\n",
      "1     27.1\n",
      "2      2.6\n",
      "3      1.0\n",
      "4      0.9\n",
      "5      0.6\n",
      "7      0.3\n",
      "9      0.3\n",
      "6      0.3\n",
      "8      0.3\n",
      "10     0.3\n",
      "Name: Multiple_Buys, dtype: float64\n"
     ]
    }
   ],
   "source": [
    "val_count(df.Multiple_Buys, key='Subsequent Purchases', step=5, plotsize=(12,12))"
   ]
  },
  {
   "cell_type": "code",
   "execution_count": 18,
   "metadata": {},
   "outputs": [
    {
     "name": "stdout",
     "output_type": "stream",
     "text": [
      "Total Sales: $6847 (Millions)\n",
      "Total Unit Sold: 355873 (Vehicles)\n",
      "Average Unit Price: $19241 (per Vehicle)\n"
     ]
    }
   ],
   "source": [
    "# SALE OPERATIONS\n",
    "print('Total Sales: ${:.0f} (Millions)'.format(df.Price.sum()/1000))\n",
    "print('Total Unit Sold:', len(df), '(Vehicles)')\n",
    "print('Average Unit Price: ${:.0f} (per Vehicle)'.format(df.Price.sum() / len(df) * 1000))"
   ]
  },
  {
   "cell_type": "code",
   "execution_count": 19,
   "metadata": {},
   "outputs": [
    {
     "name": "stdout",
     "output_type": "stream",
     "text": [
      "Total Financing Amount: $5247 (Millions)\n",
      "Total Units Financed: 277347 (Vehicles)\n",
      "Average Financing Amount per Unit: $18918 (per Vehicle)\n"
     ]
    }
   ],
   "source": [
    "# FINANCING OPERATIONS\n",
    "dt = df[df.Financed==1] \n",
    "print('Total Financing Amount: ${:.0f} (Millions)'.format(dt.Price.sum()/1000))\n",
    "print('Total Units Financed:', len(dt), '(Vehicles)')\n",
    "print('Average Financing Amount per Unit: ${:.0f} (per Vehicle)'.format(dt.Price.sum()/len(dt) * 1000))"
   ]
  },
  {
   "cell_type": "code",
   "execution_count": 20,
   "metadata": {},
   "outputs": [
    {
     "data": {
      "text/plain": [
       "ALTIMA     32.0\n",
       "CAMRY      27.0\n",
       "ACCORD     22.0\n",
       "MALIBU     20.0\n",
       "COROLLA    18.0\n",
       "Name: Model, dtype: float64"
      ]
     },
     "execution_count": 20,
     "metadata": {},
     "output_type": "execute_result"
    }
   ],
   "source": [
    "# 5 BEST-SELLING MODELS\n",
    "round(df.Model.value_counts(normalize=True) * 1000, 0).head()"
   ]
  },
  {
   "cell_type": "code",
   "execution_count": 21,
   "metadata": {},
   "outputs": [
    {
     "data": {
      "text/plain": [
       "17.5    332.0\n",
       "12.5    284.0\n",
       "22.5    186.0\n",
       "27.5     91.0\n",
       "32.5     43.0\n",
       "Name: Price, dtype: float64"
      ]
     },
     "execution_count": 21,
     "metadata": {},
     "output_type": "execute_result"
    }
   ],
   "source": [
    "# 5 BEST-SELLING UNIT-PRICES\n",
    "round(df.Price.value_counts(normalize=True) * 1000, 0).head()"
   ]
  },
  {
   "cell_type": "code",
   "execution_count": 22,
   "metadata": {},
   "outputs": [
    {
     "data": {
      "text/plain": [
       "Age  Income\n",
       "25   30.0      96.0\n",
       "35   50.0      69.0\n",
       "25   50.0      65.0\n",
       "35   30.0      60.0\n",
       "45   50.0      58.0\n",
       "     30.0      46.0\n",
       "Name: Make, dtype: float64"
      ]
     },
     "execution_count": 22,
     "metadata": {},
     "output_type": "execute_result"
    }
   ],
   "source": [
    "# 6 BEST-SELLING BUYERS\n",
    "dt = df.groupby(by=[df['Age'], df['Income']]).agg('count').Make\n",
    "round(dt.sort_values(ascending=False) / len(df) * 1000, 0).head(6)"
   ]
  },
  {
   "cell_type": "code",
   "execution_count": 23,
   "metadata": {},
   "outputs": [
    {
     "data": {
      "text/plain": [
       "Age  Income\n",
       "25   30.0      83.0\n",
       "35   50.0      58.0\n",
       "25   50.0      55.0\n",
       "35   30.0      50.0\n",
       "45   50.0      46.0\n",
       "     30.0      35.0\n",
       "Name: Make, dtype: float64"
      ]
     },
     "execution_count": 23,
     "metadata": {},
     "output_type": "execute_result"
    }
   ],
   "source": [
    "# 6 MOST-FINANCING BUYERS\n",
    "dt = df[df['Financed']==1].groupby(by=[df['Age'], df['Income']]).agg('count').Make\n",
    "round(dt.sort_values(ascending=False) / len(df) * 1000, 0).head(6)"
   ]
  },
  {
   "cell_type": "code",
   "execution_count": 24,
   "metadata": {},
   "outputs": [
    {
     "data": {
      "text/plain": [
       "35    244.0\n",
       "45    244.0\n",
       "25    231.0\n",
       "Name: Age, dtype: float64"
      ]
     },
     "execution_count": 24,
     "metadata": {},
     "output_type": "execute_result"
    }
   ],
   "source": [
    "# 3 BEST-SUBSEQUENT BUYERS\n",
    "round(df[df['Multiple_Buys'] > 0].Age.value_counts(normalize=True) * 1000, 0).head(3)"
   ]
  },
  {
   "cell_type": "code",
   "execution_count": 25,
   "metadata": {},
   "outputs": [],
   "source": [
    "# Distance \n",
    "def dist_count(df, fro, to):\n",
    "    dt = df[(df.Distance >= fro) & (df.Distance <= to)]\n",
    "    print(dt.Distance.value_counts().sort_index().head(15))"
   ]
  },
  {
   "cell_type": "code",
   "execution_count": 26,
   "metadata": {},
   "outputs": [
    {
     "name": "stdout",
     "output_type": "stream",
     "text": [
      "1      9575\n",
      "2     18213\n",
      "3     23700\n",
      "4     26035\n",
      "5     27443\n",
      "6     27380\n",
      "7     25442\n",
      "8     22673\n",
      "9     20955\n",
      "10    17152\n",
      "11    15234\n",
      "12    13149\n",
      "13    11071\n",
      "14     9539\n",
      "15     8148\n",
      "Name: Distance, dtype: int64\n"
     ]
    }
   ],
   "source": [
    "# LOCAL DOMINANCE 1-15 MILES\n",
    "dist_count(df, 1, 15)"
   ]
  },
  {
   "cell_type": "code",
   "execution_count": 27,
   "metadata": {},
   "outputs": [
    {
     "name": "stdout",
     "output_type": "stream",
     "text": [
      "16    6712\n",
      "17    5477\n",
      "18    4498\n",
      "19    3884\n",
      "20    3177\n",
      "21    2989\n",
      "22    3157\n",
      "23    2694\n",
      "24    2276\n",
      "25    2037\n",
      "26    2014\n",
      "27    1869\n",
      "28    1671\n",
      "29    1511\n",
      "30    1482\n",
      "Name: Distance, dtype: int64\n"
     ]
    }
   ],
   "source": [
    "# LOCAL DOMINANCE 16-30 MILES\n",
    "dist_count(df, 16, 30)"
   ]
  },
  {
   "cell_type": "code",
   "execution_count": 28,
   "metadata": {},
   "outputs": [
    {
     "name": "stdout",
     "output_type": "stream",
     "text": [
      "31    1505\n",
      "32    1432\n",
      "33    1402\n",
      "34    1047\n",
      "35     993\n",
      "36    1097\n",
      "37     984\n",
      "38    1062\n",
      "39     879\n",
      "40    1004\n",
      "41     820\n",
      "42     778\n",
      "43     863\n",
      "44     715\n",
      "45     699\n",
      "Name: Distance, dtype: int64\n"
     ]
    }
   ],
   "source": [
    "# LOCAL DOMINANCE 31-45 MILES\n",
    "dist_count(df, 31, 45)"
   ]
  },
  {
   "cell_type": "code",
   "execution_count": null,
   "metadata": {},
   "outputs": [],
   "source": []
  }
 ],
 "metadata": {
  "kernelspec": {
   "display_name": "Python 3",
   "language": "python",
   "name": "python3"
  },
  "language_info": {
   "codemirror_mode": {
    "name": "ipython",
    "version": 3
   },
   "file_extension": ".py",
   "mimetype": "text/x-python",
   "name": "python",
   "nbconvert_exporter": "python",
   "pygments_lexer": "ipython3",
   "version": "3.7.7"
  }
 },
 "nbformat": 4,
 "nbformat_minor": 4
}
