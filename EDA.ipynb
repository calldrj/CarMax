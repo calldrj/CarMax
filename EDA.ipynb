{
 "cells": [
  {
   "cell_type": "code",
   "execution_count": 1,
   "metadata": {},
   "outputs": [
    {
     "data": {
      "text/html": [
       "<div>\n",
       "<style scoped>\n",
       "    .dataframe tbody tr th:only-of-type {\n",
       "        vertical-align: middle;\n",
       "    }\n",
       "\n",
       "    .dataframe tbody tr th {\n",
       "        vertical-align: top;\n",
       "    }\n",
       "\n",
       "    .dataframe thead th {\n",
       "        text-align: right;\n",
       "    }\n",
       "</style>\n",
       "<table border=\"1\" class=\"dataframe\">\n",
       "  <thead>\n",
       "    <tr style=\"text-align: right;\">\n",
       "      <th></th>\n",
       "      <th>Make</th>\n",
       "      <th>Model</th>\n",
       "      <th>Years</th>\n",
       "      <th>Price</th>\n",
       "      <th>Trade_In</th>\n",
       "      <th>Financed</th>\n",
       "      <th>Age</th>\n",
       "      <th>Income</th>\n",
       "      <th>Gender</th>\n",
       "      <th>Returned</th>\n",
       "      <th>Distance</th>\n",
       "      <th>Rate</th>\n",
       "      <th>Warranty</th>\n",
       "      <th>Multiple_Buys</th>\n",
       "    </tr>\n",
       "  </thead>\n",
       "  <tbody>\n",
       "    <tr>\n",
       "      <th>0</th>\n",
       "      <td>DODG</td>\n",
       "      <td>CHARGER</td>\n",
       "      <td>2</td>\n",
       "      <td>20</td>\n",
       "      <td>1</td>\n",
       "      <td>1</td>\n",
       "      <td>30</td>\n",
       "      <td>60.0</td>\n",
       "      <td>U</td>\n",
       "      <td>0</td>\n",
       "      <td>8</td>\n",
       "      <td>10</td>\n",
       "      <td>0</td>\n",
       "      <td>1</td>\n",
       "    </tr>\n",
       "    <tr>\n",
       "      <th>1</th>\n",
       "      <td>FORD</td>\n",
       "      <td>F150</td>\n",
       "      <td>7</td>\n",
       "      <td>20</td>\n",
       "      <td>0</td>\n",
       "      <td>0</td>\n",
       "      <td>60</td>\n",
       "      <td>20.0</td>\n",
       "      <td>F</td>\n",
       "      <td>1</td>\n",
       "      <td>19</td>\n",
       "      <td>9</td>\n",
       "      <td>0</td>\n",
       "      <td>0</td>\n",
       "    </tr>\n",
       "    <tr>\n",
       "      <th>2</th>\n",
       "      <td>BMW</td>\n",
       "      <td>328</td>\n",
       "      <td>4</td>\n",
       "      <td>30</td>\n",
       "      <td>1</td>\n",
       "      <td>1</td>\n",
       "      <td>50</td>\n",
       "      <td>80.0</td>\n",
       "      <td>F</td>\n",
       "      <td>1</td>\n",
       "      <td>21</td>\n",
       "      <td>10</td>\n",
       "      <td>0</td>\n",
       "      <td>0</td>\n",
       "    </tr>\n",
       "    <tr>\n",
       "      <th>3</th>\n",
       "      <td>LEXU</td>\n",
       "      <td>GS 300</td>\n",
       "      <td>11</td>\n",
       "      <td>15</td>\n",
       "      <td>0</td>\n",
       "      <td>1</td>\n",
       "      <td>30</td>\n",
       "      <td>40.0</td>\n",
       "      <td>M</td>\n",
       "      <td>0</td>\n",
       "      <td>8</td>\n",
       "      <td>10</td>\n",
       "      <td>0</td>\n",
       "      <td>0</td>\n",
       "    </tr>\n",
       "    <tr>\n",
       "      <th>4</th>\n",
       "      <td>CHEV</td>\n",
       "      <td>CRUZE</td>\n",
       "      <td>2</td>\n",
       "      <td>20</td>\n",
       "      <td>1</td>\n",
       "      <td>1</td>\n",
       "      <td>40</td>\n",
       "      <td>140.0</td>\n",
       "      <td>M</td>\n",
       "      <td>1</td>\n",
       "      <td>5</td>\n",
       "      <td>10</td>\n",
       "      <td>1</td>\n",
       "      <td>1</td>\n",
       "    </tr>\n",
       "    <tr>\n",
       "      <th>...</th>\n",
       "      <td>...</td>\n",
       "      <td>...</td>\n",
       "      <td>...</td>\n",
       "      <td>...</td>\n",
       "      <td>...</td>\n",
       "      <td>...</td>\n",
       "      <td>...</td>\n",
       "      <td>...</td>\n",
       "      <td>...</td>\n",
       "      <td>...</td>\n",
       "      <td>...</td>\n",
       "      <td>...</td>\n",
       "      <td>...</td>\n",
       "      <td>...</td>\n",
       "    </tr>\n",
       "    <tr>\n",
       "      <th>355868</th>\n",
       "      <td>JEEP</td>\n",
       "      <td>LIBERTY</td>\n",
       "      <td>4</td>\n",
       "      <td>20</td>\n",
       "      <td>0</td>\n",
       "      <td>1</td>\n",
       "      <td>30</td>\n",
       "      <td>40.0</td>\n",
       "      <td>F</td>\n",
       "      <td>0</td>\n",
       "      <td>13</td>\n",
       "      <td>10</td>\n",
       "      <td>0</td>\n",
       "      <td>0</td>\n",
       "    </tr>\n",
       "    <tr>\n",
       "      <th>355869</th>\n",
       "      <td>CHEV</td>\n",
       "      <td>SONIC</td>\n",
       "      <td>2</td>\n",
       "      <td>15</td>\n",
       "      <td>1</td>\n",
       "      <td>0</td>\n",
       "      <td>80</td>\n",
       "      <td>0.0</td>\n",
       "      <td>U</td>\n",
       "      <td>0</td>\n",
       "      <td>2</td>\n",
       "      <td>8</td>\n",
       "      <td>0</td>\n",
       "      <td>0</td>\n",
       "    </tr>\n",
       "    <tr>\n",
       "      <th>355870</th>\n",
       "      <td>KIA</td>\n",
       "      <td>SORENTO</td>\n",
       "      <td>2</td>\n",
       "      <td>20</td>\n",
       "      <td>1</td>\n",
       "      <td>1</td>\n",
       "      <td>70</td>\n",
       "      <td>40.0</td>\n",
       "      <td>F</td>\n",
       "      <td>1</td>\n",
       "      <td>9</td>\n",
       "      <td>10</td>\n",
       "      <td>0</td>\n",
       "      <td>1</td>\n",
       "    </tr>\n",
       "    <tr>\n",
       "      <th>355871</th>\n",
       "      <td>NISS</td>\n",
       "      <td>350Z</td>\n",
       "      <td>11</td>\n",
       "      <td>15</td>\n",
       "      <td>0</td>\n",
       "      <td>1</td>\n",
       "      <td>30</td>\n",
       "      <td>60.0</td>\n",
       "      <td>M</td>\n",
       "      <td>0</td>\n",
       "      <td>5</td>\n",
       "      <td>10</td>\n",
       "      <td>0</td>\n",
       "      <td>0</td>\n",
       "    </tr>\n",
       "    <tr>\n",
       "      <th>355872</th>\n",
       "      <td>CHEV</td>\n",
       "      <td>MALIBU</td>\n",
       "      <td>2</td>\n",
       "      <td>20</td>\n",
       "      <td>1</td>\n",
       "      <td>1</td>\n",
       "      <td>40</td>\n",
       "      <td>0.0</td>\n",
       "      <td>M</td>\n",
       "      <td>0</td>\n",
       "      <td>9</td>\n",
       "      <td>10</td>\n",
       "      <td>0</td>\n",
       "      <td>0</td>\n",
       "    </tr>\n",
       "  </tbody>\n",
       "</table>\n",
       "<p>355873 rows × 14 columns</p>\n",
       "</div>"
      ],
      "text/plain": [
       "        Make    Model  Years  Price  Trade_In  Financed  Age  Income Gender  \\\n",
       "0       DODG  CHARGER      2     20         1         1   30    60.0      U   \n",
       "1       FORD     F150      7     20         0         0   60    20.0      F   \n",
       "2        BMW      328      4     30         1         1   50    80.0      F   \n",
       "3       LEXU   GS 300     11     15         0         1   30    40.0      M   \n",
       "4       CHEV    CRUZE      2     20         1         1   40   140.0      M   \n",
       "...      ...      ...    ...    ...       ...       ...  ...     ...    ...   \n",
       "355868  JEEP  LIBERTY      4     20         0         1   30    40.0      F   \n",
       "355869  CHEV    SONIC      2     15         1         0   80     0.0      U   \n",
       "355870   KIA  SORENTO      2     20         1         1   70    40.0      F   \n",
       "355871  NISS     350Z     11     15         0         1   30    60.0      M   \n",
       "355872  CHEV   MALIBU      2     20         1         1   40     0.0      M   \n",
       "\n",
       "        Returned  Distance  Rate  Warranty  Multiple_Buys  \n",
       "0              0         8    10         0              1  \n",
       "1              1        19     9         0              0  \n",
       "2              1        21    10         0              0  \n",
       "3              0         8    10         0              0  \n",
       "4              1         5    10         1              1  \n",
       "...          ...       ...   ...       ...            ...  \n",
       "355868         0        13    10         0              0  \n",
       "355869         0         2     8         0              0  \n",
       "355870         1         9    10         0              1  \n",
       "355871         0         5    10         0              0  \n",
       "355872         0         9    10         0              0  \n",
       "\n",
       "[355873 rows x 14 columns]"
      ]
     },
     "execution_count": 1,
     "metadata": {},
     "output_type": "execute_result"
    }
   ],
   "source": [
    "import pandas as pd\n",
    "import numpy as np\n",
    "import seaborn as sns\n",
    "import matplotlib.pyplot as plt\n",
    "\n",
    "def missing_count(data, col):\n",
    "    return data[data[col]=='?'][col].count()\n",
    "\n",
    "def val_count(data, key, plot=True, step=0.5, plotsize=(8,8)):\n",
    "    precision = 1\n",
    "    counts = data.value_counts(normalize=True) * 100\n",
    "    l = len(counts.index) \n",
    "    t = 'Market Share Among {} {} (%)'.format(l, key)\n",
    "    x = np.arange(step, counts.values.max(), step)\n",
    "    if (plot):\n",
    "        counts.plot(kind='barh', figsize=plotsize, title=t, xticks=x)\n",
    "        plt.show()\n",
    "    else:\n",
    "        print(t)\n",
    "    print(round(counts, precision))\n",
    "\n",
    "df = pd.read_csv('cleaned_dataset.csv')\n",
    "df"
   ]
  },
  {
   "cell_type": "code",
   "execution_count": 2,
   "metadata": {},
   "outputs": [
    {
     "name": "stdout",
     "output_type": "stream",
     "text": [
      "<class 'pandas.core.frame.DataFrame'>\n",
      "RangeIndex: 355873 entries, 0 to 355872\n",
      "Data columns (total 14 columns):\n",
      " #   Column         Non-Null Count   Dtype  \n",
      "---  ------         --------------   -----  \n",
      " 0   Make           355873 non-null  object \n",
      " 1   Model          355873 non-null  object \n",
      " 2   Years          355873 non-null  int64  \n",
      " 3   Price          355873 non-null  int64  \n",
      " 4   Trade_In       355873 non-null  int64  \n",
      " 5   Financed       355873 non-null  int64  \n",
      " 6   Age            355873 non-null  int64  \n",
      " 7   Income         355873 non-null  float64\n",
      " 8   Gender         355873 non-null  object \n",
      " 9   Returned       355873 non-null  int64  \n",
      " 10  Distance       355873 non-null  int64  \n",
      " 11  Rate           355873 non-null  int64  \n",
      " 12  Warranty       355873 non-null  int64  \n",
      " 13  Multiple_Buys  355873 non-null  int64  \n",
      "dtypes: float64(1), int64(10), object(3)\n",
      "memory usage: 38.0+ MB\n"
     ]
    }
   ],
   "source": [
    "df.info()"
   ]
  },
  {
   "cell_type": "code",
   "execution_count": 3,
   "metadata": {},
   "outputs": [
    {
     "data": {
      "text/html": [
       "<div>\n",
       "<style scoped>\n",
       "    .dataframe tbody tr th:only-of-type {\n",
       "        vertical-align: middle;\n",
       "    }\n",
       "\n",
       "    .dataframe tbody tr th {\n",
       "        vertical-align: top;\n",
       "    }\n",
       "\n",
       "    .dataframe thead th {\n",
       "        text-align: right;\n",
       "    }\n",
       "</style>\n",
       "<table border=\"1\" class=\"dataframe\">\n",
       "  <thead>\n",
       "    <tr style=\"text-align: right;\">\n",
       "      <th></th>\n",
       "      <th>Years</th>\n",
       "      <th>Price</th>\n",
       "      <th>Trade_In</th>\n",
       "      <th>Financed</th>\n",
       "      <th>Age</th>\n",
       "      <th>Income</th>\n",
       "      <th>Returned</th>\n",
       "      <th>Distance</th>\n",
       "      <th>Rate</th>\n",
       "      <th>Warranty</th>\n",
       "      <th>Multiple_Buys</th>\n",
       "    </tr>\n",
       "  </thead>\n",
       "  <tbody>\n",
       "    <tr>\n",
       "      <th>count</th>\n",
       "      <td>355873.000000</td>\n",
       "      <td>355873.000000</td>\n",
       "      <td>355873.000000</td>\n",
       "      <td>355873.000000</td>\n",
       "      <td>355873.000000</td>\n",
       "      <td>355873.000000</td>\n",
       "      <td>355873.000000</td>\n",
       "      <td>355873.000000</td>\n",
       "      <td>355873.000000</td>\n",
       "      <td>355873.000000</td>\n",
       "      <td>355873.000000</td>\n",
       "    </tr>\n",
       "    <tr>\n",
       "      <th>mean</th>\n",
       "      <td>4.472143</td>\n",
       "      <td>21.740776</td>\n",
       "      <td>0.466172</td>\n",
       "      <td>0.779343</td>\n",
       "      <td>46.469443</td>\n",
       "      <td>63.041366</td>\n",
       "      <td>0.204767</td>\n",
       "      <td>15.513846</td>\n",
       "      <td>9.319622</td>\n",
       "      <td>0.252101</td>\n",
       "      <td>0.533418</td>\n",
       "    </tr>\n",
       "    <tr>\n",
       "      <th>std</th>\n",
       "      <td>2.491923</td>\n",
       "      <td>7.426396</td>\n",
       "      <td>0.498855</td>\n",
       "      <td>0.414690</td>\n",
       "      <td>14.392152</td>\n",
       "      <td>49.080791</td>\n",
       "      <td>0.403532</td>\n",
       "      <td>65.670528</td>\n",
       "      <td>1.472063</td>\n",
       "      <td>0.434220</td>\n",
       "      <td>1.190329</td>\n",
       "    </tr>\n",
       "    <tr>\n",
       "      <th>min</th>\n",
       "      <td>0.000000</td>\n",
       "      <td>10.000000</td>\n",
       "      <td>0.000000</td>\n",
       "      <td>0.000000</td>\n",
       "      <td>20.000000</td>\n",
       "      <td>0.000000</td>\n",
       "      <td>0.000000</td>\n",
       "      <td>0.000000</td>\n",
       "      <td>0.000000</td>\n",
       "      <td>0.000000</td>\n",
       "      <td>0.000000</td>\n",
       "    </tr>\n",
       "    <tr>\n",
       "      <th>25%</th>\n",
       "      <td>3.000000</td>\n",
       "      <td>15.000000</td>\n",
       "      <td>0.000000</td>\n",
       "      <td>1.000000</td>\n",
       "      <td>30.000000</td>\n",
       "      <td>40.000000</td>\n",
       "      <td>0.000000</td>\n",
       "      <td>5.000000</td>\n",
       "      <td>9.000000</td>\n",
       "      <td>0.000000</td>\n",
       "      <td>0.000000</td>\n",
       "    </tr>\n",
       "    <tr>\n",
       "      <th>50%</th>\n",
       "      <td>4.000000</td>\n",
       "      <td>20.000000</td>\n",
       "      <td>0.000000</td>\n",
       "      <td>1.000000</td>\n",
       "      <td>40.000000</td>\n",
       "      <td>60.000000</td>\n",
       "      <td>0.000000</td>\n",
       "      <td>8.000000</td>\n",
       "      <td>10.000000</td>\n",
       "      <td>0.000000</td>\n",
       "      <td>0.000000</td>\n",
       "    </tr>\n",
       "    <tr>\n",
       "      <th>75%</th>\n",
       "      <td>6.000000</td>\n",
       "      <td>25.000000</td>\n",
       "      <td>1.000000</td>\n",
       "      <td>1.000000</td>\n",
       "      <td>60.000000</td>\n",
       "      <td>80.000000</td>\n",
       "      <td>0.000000</td>\n",
       "      <td>14.000000</td>\n",
       "      <td>10.000000</td>\n",
       "      <td>1.000000</td>\n",
       "      <td>1.000000</td>\n",
       "    </tr>\n",
       "    <tr>\n",
       "      <th>max</th>\n",
       "      <td>61.000000</td>\n",
       "      <td>95.000000</td>\n",
       "      <td>1.000000</td>\n",
       "      <td>1.000000</td>\n",
       "      <td>100.000000</td>\n",
       "      <td>220.000000</td>\n",
       "      <td>1.000000</td>\n",
       "      <td>2455.000000</td>\n",
       "      <td>10.000000</td>\n",
       "      <td>1.000000</td>\n",
       "      <td>10.000000</td>\n",
       "    </tr>\n",
       "  </tbody>\n",
       "</table>\n",
       "</div>"
      ],
      "text/plain": [
       "               Years          Price       Trade_In       Financed  \\\n",
       "count  355873.000000  355873.000000  355873.000000  355873.000000   \n",
       "mean        4.472143      21.740776       0.466172       0.779343   \n",
       "std         2.491923       7.426396       0.498855       0.414690   \n",
       "min         0.000000      10.000000       0.000000       0.000000   \n",
       "25%         3.000000      15.000000       0.000000       1.000000   \n",
       "50%         4.000000      20.000000       0.000000       1.000000   \n",
       "75%         6.000000      25.000000       1.000000       1.000000   \n",
       "max        61.000000      95.000000       1.000000       1.000000   \n",
       "\n",
       "                 Age         Income       Returned       Distance  \\\n",
       "count  355873.000000  355873.000000  355873.000000  355873.000000   \n",
       "mean       46.469443      63.041366       0.204767      15.513846   \n",
       "std        14.392152      49.080791       0.403532      65.670528   \n",
       "min        20.000000       0.000000       0.000000       0.000000   \n",
       "25%        30.000000      40.000000       0.000000       5.000000   \n",
       "50%        40.000000      60.000000       0.000000       8.000000   \n",
       "75%        60.000000      80.000000       0.000000      14.000000   \n",
       "max       100.000000     220.000000       1.000000    2455.000000   \n",
       "\n",
       "                Rate       Warranty  Multiple_Buys  \n",
       "count  355873.000000  355873.000000  355873.000000  \n",
       "mean        9.319622       0.252101       0.533418  \n",
       "std         1.472063       0.434220       1.190329  \n",
       "min         0.000000       0.000000       0.000000  \n",
       "25%         9.000000       0.000000       0.000000  \n",
       "50%        10.000000       0.000000       0.000000  \n",
       "75%        10.000000       1.000000       1.000000  \n",
       "max        10.000000       1.000000      10.000000  "
      ]
     },
     "execution_count": 3,
     "metadata": {},
     "output_type": "execute_result"
    }
   ],
   "source": [
    "df.describe()"
   ]
  },
  {
   "cell_type": "code",
   "execution_count": 4,
   "metadata": {},
   "outputs": [
    {
     "name": "stdout",
     "output_type": "stream",
     "text": [
      "Number of missing values in column Make: 0\n",
      "Number of missing values in column Model: 0\n",
      "Number of missing values in column Gender: 0\n"
     ]
    }
   ],
   "source": [
    "for col in df.columns:\n",
    "    if df[col].dtype == 'O':\n",
    "        print('Number of missing values in column {}: {}'.\\\n",
    "              format(col, missing_count(df, col)))\n",
    "        "
   ]
  },
  {
   "cell_type": "code",
   "execution_count": 5,
   "metadata": {},
   "outputs": [
    {
     "data": {
      "image/png": "[encoded data removed]",
      "text/plain": [
       "<Figure size 1152x1152 with 1 Axes>"
      ]
     },
     "metadata": {
      "needs_background": "light"
     },
     "output_type": "display_data"
    },
    {
     "name": "stdout",
     "output_type": "stream",
     "text": [
      "FORD    11.3\n",
      "TOYO    11.3\n",
      "NISS    11.0\n",
      "CHEV    10.6\n",
      "HOND     7.5\n",
      "DODG     5.7\n",
      "HYUN     4.0\n",
      "JEEP     3.3\n",
      "BMW      3.1\n",
      "VOLK     3.0\n",
      "MBZ      3.0\n",
      "MAZD     2.8\n",
      "CHRY     2.6\n",
      "KIA      2.6\n",
      "LEXU     2.5\n",
      "INFI     2.0\n",
      "GMC      1.6\n",
      "ACUR     1.3\n",
      "CADI     1.3\n",
      "AUDI     0.9\n",
      "BUIC     0.9\n",
      "MITS     0.8\n",
      "MINI     0.8\n",
      "SUBA     0.8\n",
      "LINC     0.8\n",
      "SCIO     0.6\n",
      "SATU     0.6\n",
      "PONT     0.6\n",
      "MERC     0.5\n",
      "VOLV     0.5\n",
      "SUZU     0.4\n",
      "LAND     0.3\n",
      "PORS     0.3\n",
      "FIAT     0.2\n",
      "HUMM     0.2\n",
      "SMAR     0.2\n",
      "JAGU     0.2\n",
      "ISUZ     0.0\n",
      "OLDS     0.0\n",
      "SAAB     0.0\n",
      "LOTU     0.0\n",
      "BENT     0.0\n",
      "MASE     0.0\n",
      "Name: Make, dtype: float64\n"
     ]
    }
   ],
   "source": [
    "val_count(df.Make, key='Makes', plotsize=(16,16))"
   ]
  },
  {
   "cell_type": "code",
   "execution_count": 6,
   "metadata": {},
   "outputs": [
    {
     "name": "stdout",
     "output_type": "stream",
     "text": [
      "Market Share Among 639 Models (%)\n",
      "ALTIMA            3.2\n",
      "CAMRY             2.7\n",
      "ACCORD            2.2\n",
      "MALIBU            2.0\n",
      "COROLLA           1.8\n",
      "                 ... \n",
      "S55 AMG           0.0\n",
      "RS6               0.0\n",
      "B4000             0.0\n",
      "FOCUS ELECTRIC    0.0\n",
      "ASPEN HYBRID      0.0\n",
      "Name: Model, Length: 639, dtype: float64\n"
     ]
    }
   ],
   "source": [
    "val_count(df.Model, key='Models', plot=False)"
   ]
  },
  {
   "cell_type": "code",
   "execution_count": 7,
   "metadata": {},
   "outputs": [
    {
     "data": {
      "image/png": "[encoded data removed]",
      "text/plain": [
       "<Figure size 864x864 with 1 Axes>"
      ]
     },
     "metadata": {
      "needs_background": "light"
     },
     "output_type": "display_data"
    },
    {
     "name": "stdout",
     "output_type": "stream",
     "text": [
      "4     19.2\n",
      "2     17.7\n",
      "3     17.2\n",
      "6      9.4\n",
      "7      8.1\n",
      "5      8.1\n",
      "1      6.5\n",
      "8      5.7\n",
      "9      3.5\n",
      "10     2.3\n",
      "11     1.4\n",
      "12     0.5\n",
      "0      0.3\n",
      "13     0.0\n",
      "14     0.0\n",
      "15     0.0\n",
      "19     0.0\n",
      "16     0.0\n",
      "18     0.0\n",
      "21     0.0\n",
      "26     0.0\n",
      "48     0.0\n",
      "17     0.0\n",
      "28     0.0\n",
      "29     0.0\n",
      "43     0.0\n",
      "45     0.0\n",
      "61     0.0\n",
      "Name: Years, dtype: float64\n"
     ]
    }
   ],
   "source": [
    "val_count(df.Years, key='Years', step=2.5, plotsize=(12,12))"
   ]
  },
  {
   "cell_type": "code",
   "execution_count": 8,
   "metadata": {},
   "outputs": [
    {
     "data": {
      "image/png": "[encoded data removed]",
      "text/plain": [
       "<Figure size 864x864 with 1 Axes>"
      ]
     },
     "metadata": {
      "needs_background": "light"
     },
     "output_type": "display_data"
    },
    {
     "name": "stdout",
     "output_type": "stream",
     "text": [
      "20    33.2\n",
      "15    28.4\n",
      "25    18.6\n",
      "30     9.1\n",
      "35     4.3\n",
      "10     2.6\n",
      "40     2.0\n",
      "45     0.9\n",
      "50     0.4\n",
      "55     0.2\n",
      "60     0.1\n",
      "65     0.1\n",
      "70     0.0\n",
      "75     0.0\n",
      "80     0.0\n",
      "90     0.0\n",
      "85     0.0\n",
      "95     0.0\n",
      "Name: Price, dtype: float64\n"
     ]
    }
   ],
   "source": [
    "val_count(df.Price, key='Prices', step=2.5, plotsize=(12,12))"
   ]
  },
  {
   "cell_type": "code",
   "execution_count": 9,
   "metadata": {},
   "outputs": [
    {
     "data": {
      "text/plain": [
       "0    53.4\n",
       "1    46.6\n",
       "Name: Trade_In, dtype: float64"
      ]
     },
     "execution_count": 9,
     "metadata": {},
     "output_type": "execute_result"
    }
   ],
   "source": [
    "round(df.Trade_In.value_counts(normalize=True) * 100, 1)"
   ]
  },
  {
   "cell_type": "code",
   "execution_count": 10,
   "metadata": {},
   "outputs": [
    {
     "data": {
      "text/plain": [
       "1    77.9\n",
       "0    22.1\n",
       "Name: Financed, dtype: float64"
      ]
     },
     "execution_count": 10,
     "metadata": {},
     "output_type": "execute_result"
    }
   ],
   "source": [
    "round(df.Financed.value_counts(normalize=True) * 100, 1)"
   ]
  },
  {
   "cell_type": "code",
   "execution_count": 11,
   "metadata": {},
   "outputs": [
    {
     "data": {
      "image/png": "[encoded data removed]",
      "text/plain": [
       "<Figure size 864x864 with 1 Axes>"
      ]
     },
     "metadata": {
      "needs_background": "light"
     },
     "output_type": "display_data"
    },
    {
     "name": "stdout",
     "output_type": "stream",
     "text": [
      "40     24.9\n",
      "50     23.8\n",
      "30     23.4\n",
      "60     15.4\n",
      "70      7.4\n",
      "80      2.3\n",
      "20      1.7\n",
      "90      0.6\n",
      "100     0.4\n",
      "Name: Age, dtype: float64\n"
     ]
    }
   ],
   "source": [
    "val_count(df.Age, key='Ages', step=2.5, plotsize=(12,12))"
   ]
  },
  {
   "cell_type": "code",
   "execution_count": 12,
   "metadata": {},
   "outputs": [
    {
     "data": {
      "image/png": "[encoded data removed]",
      "text/plain": [
       "<Figure size 864x864 with 1 Axes>"
      ]
     },
     "metadata": {
      "needs_background": "light"
     },
     "output_type": "display_data"
    },
    {
     "name": "stdout",
     "output_type": "stream",
     "text": [
      "40.0     22.7\n",
      "60.0     21.6\n",
      "0.0      12.9\n",
      "80.0     12.0\n",
      "20.0      9.2\n",
      "100.0     8.3\n",
      "120.0     4.4\n",
      "220.0     3.1\n",
      "160.0     2.1\n",
      "140.0     2.1\n",
      "180.0     1.1\n",
      "200.0     0.5\n",
      "Name: Income, dtype: float64\n"
     ]
    }
   ],
   "source": [
    "val_count(df.Income, key='Incomes', step=2.5, plotsize=(12,12))"
   ]
  },
  {
   "cell_type": "code",
   "execution_count": 13,
   "metadata": {},
   "outputs": [
    {
     "data": {
      "image/png": "[encoded data removed]",
      "text/plain": [
       "<Figure size 432x432 with 1 Axes>"
      ]
     },
     "metadata": {
      "needs_background": "light"
     },
     "output_type": "display_data"
    },
    {
     "name": "stdout",
     "output_type": "stream",
     "text": [
      "M    51.8\n",
      "F    38.2\n",
      "U     9.9\n",
      "Name: Gender, dtype: float64\n"
     ]
    }
   ],
   "source": [
    "val_count(df.Gender, key='Genders', step=5, plotsize=(6,6))"
   ]
  },
  {
   "cell_type": "code",
   "execution_count": 14,
   "metadata": {},
   "outputs": [
    {
     "data": {
      "text/plain": [
       "0    79.5\n",
       "1    20.5\n",
       "Name: Returned, dtype: float64"
      ]
     },
     "execution_count": 14,
     "metadata": {},
     "output_type": "execute_result"
    }
   ],
   "source": [
    "round(df.Returned.value_counts(normalize=True) * 100, 1)"
   ]
  },
  {
   "cell_type": "code",
   "execution_count": 15,
   "metadata": {},
   "outputs": [
    {
     "data": {
      "image/png": "[encoded data removed]",
      "text/plain": [
       "<Figure size 1152x576 with 1 Axes>"
      ]
     },
     "metadata": {
      "needs_background": "light"
     },
     "output_type": "display_data"
    }
   ],
   "source": [
    "plt.figure().set_size_inches(16, 8) \n",
    "plt.hist(df[df['Distance'] < 100]['Distance'], histtype='step', bins=10)\n",
    "plt.show()"
   ]
  },
  {
   "cell_type": "code",
   "execution_count": 16,
   "metadata": {},
   "outputs": [
    {
     "data": {
      "image/png": "[encoded data removed]",
      "text/plain": [
       "<Figure size 1152x576 with 1 Axes>"
      ]
     },
     "metadata": {
      "needs_background": "light"
     },
     "output_type": "display_data"
    }
   ],
   "source": [
    "plt.figure().set_size_inches(16, 8) \n",
    "plt.hist(df[df['Distance'] < 50]['Distance'], histtype='step', bins=7)\n",
    "plt.show()"
   ]
  },
  {
   "cell_type": "code",
   "execution_count": 17,
   "metadata": {},
   "outputs": [
    {
     "data": {
      "image/png": "[encoded data removed]",
      "text/plain": [
       "<Figure size 1152x576 with 1 Axes>"
      ]
     },
     "metadata": {
      "needs_background": "light"
     },
     "output_type": "display_data"
    }
   ],
   "source": [
    "plt.figure().set_size_inches(16, 8) \n",
    "plt.hist(df[df['Distance'] < 20]['Distance'], histtype='step', bins=5)\n",
    "plt.show()"
   ]
  },
  {
   "cell_type": "code",
   "execution_count": 18,
   "metadata": {},
   "outputs": [
    {
     "data": {
      "image/png": "[encoded data removed]",
      "text/plain": [
       "<Figure size 864x864 with 1 Axes>"
      ]
     },
     "metadata": {
      "needs_background": "light"
     },
     "output_type": "display_data"
    },
    {
     "name": "stdout",
     "output_type": "stream",
     "text": [
      "10    67.2\n",
      "9     18.3\n",
      "8      7.7\n",
      "7      2.8\n",
      "0      1.0\n",
      "6      1.0\n",
      "5      1.0\n",
      "4      0.5\n",
      "3      0.4\n",
      "1      0.1\n",
      "Name: Rate, dtype: float64\n"
     ]
    }
   ],
   "source": [
    "val_count(df.Rate, key='Satisfaction', step=5, plotsize=(12,12))"
   ]
  },
  {
   "cell_type": "code",
   "execution_count": 19,
   "metadata": {},
   "outputs": [
    {
     "data": {
      "text/plain": [
       "0    74.8\n",
       "1    25.2\n",
       "Name: Warranty, dtype: float64"
      ]
     },
     "execution_count": 19,
     "metadata": {},
     "output_type": "execute_result"
    }
   ],
   "source": [
    "round(df.Warranty.value_counts(normalize=True) * 100, 1)"
   ]
  },
  {
   "cell_type": "code",
   "execution_count": 20,
   "metadata": {},
   "outputs": [
    {
     "data": {
      "image/png": "[encoded data removed]",
      "text/plain": [
       "<Figure size 864x864 with 1 Axes>"
      ]
     },
     "metadata": {
      "needs_background": "light"
     },
     "output_type": "display_data"
    },
    {
     "name": "stdout",
     "output_type": "stream",
     "text": [
      "0     66.3\n",
      "1     27.1\n",
      "2      2.6\n",
      "3      1.0\n",
      "4      0.9\n",
      "5      0.6\n",
      "7      0.3\n",
      "9      0.3\n",
      "6      0.3\n",
      "8      0.3\n",
      "10     0.3\n",
      "Name: Multiple_Buys, dtype: float64\n"
     ]
    }
   ],
   "source": [
    "val_count(df.Multiple_Buys, key='Subsequent Purchases', step=5, plotsize=(12,12))"
   ]
  },
  {
   "cell_type": "code",
   "execution_count": 21,
   "metadata": {},
   "outputs": [
    {
     "data": {
      "text/plain": [
       "(F150                   5934\n",
       " ESCAPE                 4846\n",
       " FOCUS                  4636\n",
       " FUSION                 4492\n",
       " MUSTANG                4382\n",
       " EDGE                   3762\n",
       " EXPLORER               2231\n",
       " TAURUS                 1603\n",
       " RANGER                 1340\n",
       " FIESTA                 1191\n",
       " FLEX                    927\n",
       " EXPEDITION              898\n",
       " F250                    780\n",
       " E-250                   374\n",
       " EXPLORER SPORT TRAC     352\n",
       " CROWN VICTORIA          347\n",
       " E-350                   318\n",
       " F350                    315\n",
       " EXPEDITION EL           267\n",
       " FUSION HYBRID           231\n",
       " ESCAPE HYBRID           173\n",
       " FIVE HUNDRED            152\n",
       " FREESTYLE               123\n",
       " THUNDERBIRD             102\n",
       " TRANSIT CONNECT         100\n",
       " E-150                    75\n",
       " TAURUS X                 70\n",
       " C-MAX                    53\n",
       " FREESTAR                 44\n",
       " EXCURSION                37\n",
       " EXPLORER SPORT           21\n",
       " F150 HERITAGE            18\n",
       " WINDSTAR                 10\n",
       " ESCORT                    6\n",
       " F450                      1\n",
       " F550                      1\n",
       " FOCUS ELECTRIC            1\n",
       " Name: Model, dtype: int64,\n",
       " 37)"
      ]
     },
     "execution_count": 21,
     "metadata": {},
     "output_type": "execute_result"
    }
   ],
   "source": [
    "t = df[df.Make=='FORD'].Model.value_counts()\n",
    "t, len(t)"
   ]
  },
  {
   "cell_type": "code",
   "execution_count": 22,
   "metadata": {},
   "outputs": [
    {
     "data": {
      "text/plain": [
       "(CAMRY                   9462\n",
       " COROLLA                 6270\n",
       " RAV4                    4076\n",
       " PRIUS                   3093\n",
       " TACOMA                  2650\n",
       " TUNDRA                  2393\n",
       " HIGHLANDER              2043\n",
       " SIENNA                  1855\n",
       " YARIS                   1512\n",
       " 4RUNNER                 1497\n",
       " AVALON                  1031\n",
       " VENZA                    908\n",
       " FJ CRUISER               694\n",
       " SEQUOIA                  689\n",
       " MATRIX                   563\n",
       " SOLARA                   479\n",
       " CAMRY HYBRID             377\n",
       " HIGHLANDER HYBRID        173\n",
       " PRIUS C                  107\n",
       " PRIUS V                   80\n",
       " LAND CRUISER              63\n",
       " PRIUS PLUG IN HYBRID      29\n",
       " MR2 SPYDER                27\n",
       " CELICA                    26\n",
       " AVALON HYBRID             24\n",
       " ECHO                      14\n",
       " SUPRA                      1\n",
       " Name: Model, dtype: int64,\n",
       " 27)"
      ]
     },
     "execution_count": 22,
     "metadata": {},
     "output_type": "execute_result"
    }
   ],
   "source": [
    "t = df[df.Make=='TOYO'].Model.value_counts()\n",
    "t, len(t)"
   ]
  },
  {
   "cell_type": "code",
   "execution_count": 23,
   "metadata": {},
   "outputs": [
    {
     "data": {
      "text/plain": [
       "(ALTIMA                    11560\n",
       " SENTRA                     4496\n",
       " VERSA                      4331\n",
       " ROGUE                      4177\n",
       " MAXIMA                     3404\n",
       " MURANO                     2378\n",
       " PATHFINDER                 1525\n",
       " FRONTIER                   1334\n",
       " XTERRA                     1025\n",
       " TITAN                       923\n",
       " ARMADA                      858\n",
       " 350Z                        805\n",
       " CUBE                        525\n",
       " QUEST                       519\n",
       " JUKE                        484\n",
       " 370Z                        468\n",
       " MURANO CROSS CABRIOLET       52\n",
       " ALTIMA HYBRID                47\n",
       " VERSA NOTE                   35\n",
       " NV 2500                      19\n",
       " NV 1500                      12\n",
       " LEAF                         11\n",
       " 300ZX                         1\n",
       " Name: Model, dtype: int64,\n",
       " 23)"
      ]
     },
     "execution_count": 23,
     "metadata": {},
     "output_type": "execute_result"
    }
   ],
   "source": [
    "t = df[df.Make=='NISS'].Model.value_counts()\n",
    "t, len(t)"
   ]
  },
  {
   "cell_type": "code",
   "execution_count": 24,
   "metadata": {},
   "outputs": [
    {
     "data": {
      "text/plain": [
       "(MALIBU               7100\n",
       " IMPALA               5429\n",
       " SILVERADO 1500       3951\n",
       " EQUINOX              2260\n",
       " TAHOE                2097\n",
       " CAMARO               2079\n",
       " CRUZE                1821\n",
       " AVEO                 1763\n",
       " TRAVERSE             1488\n",
       " HHR                  1270\n",
       " CAPTIVA SPORT        1239\n",
       " COBALT               1159\n",
       " CORVETTE             1107\n",
       " SUBURBAN 1500        1021\n",
       " TRAILBLAZER           875\n",
       " AVALANCHE 1500        672\n",
       " COLORADO              611\n",
       " SONIC                 434\n",
       " SILVERADO 2500        385\n",
       " UPLANDER              108\n",
       " MONTE CARLO            98\n",
       " TRAILBLAZER EXT        89\n",
       " VOLT                   84\n",
       " EXPRESS 3500           76\n",
       " EXPRESS 2500           67\n",
       " EXPRESS 1500           65\n",
       " SSR                    58\n",
       " TAHOE HYBRID           58\n",
       " MALIBU CLASSIC         53\n",
       " SILVERADO 3500         49\n",
       " SILVERADO CLASSIC      45\n",
       " CAVALIER               43\n",
       " S-10                   38\n",
       " SPARK                  34\n",
       " MALIBU HYBRID          26\n",
       " SUBURBAN 2500          20\n",
       " BLAZER                 16\n",
       " VENTURE                14\n",
       " TRACKER                14\n",
       " SILVERADO 1500 HD      14\n",
       " SILVERADO HYBRID       13\n",
       " ASTRO                   7\n",
       " AVALANCHE 2500          5\n",
       " G30                     1\n",
       " R10                     1\n",
       " Name: Model, dtype: int64,\n",
       " 45)"
      ]
     },
     "execution_count": 24,
     "metadata": {},
     "output_type": "execute_result"
    }
   ],
   "source": [
    "t = df[df.Make=='CHEV'].Model.value_counts()\n",
    "t, len(t)"
   ]
  },
  {
   "cell_type": "code",
   "execution_count": 25,
   "metadata": {},
   "outputs": [
    {
     "data": {
      "text/plain": [
       "(20    7511\n",
       " 15    2779\n",
       " 25    1052\n",
       " 30     133\n",
       " 10      82\n",
       " 35       3\n",
       " Name: Price, dtype: int64,\n",
       " 6)"
      ]
     },
     "execution_count": 25,
     "metadata": {},
     "output_type": "execute_result"
    }
   ],
   "source": [
    "t = df[df.Model=='ALTIMA'].Price.value_counts()\n",
    "t, len(t)"
   ]
  },
  {
   "cell_type": "code",
   "execution_count": 26,
   "metadata": {},
   "outputs": [
    {
     "data": {
      "text/plain": [
       "(20    5172\n",
       " 15    2787\n",
       " 25    1150\n",
       " 30     204\n",
       " 10     139\n",
       " 35      10\n",
       " Name: Price, dtype: int64,\n",
       " 6)"
      ]
     },
     "execution_count": 26,
     "metadata": {},
     "output_type": "execute_result"
    }
   ],
   "source": [
    "t = df[df.Model=='CAMRY'].Price.value_counts()\n",
    "t, len(t)"
   ]
  },
  {
   "cell_type": "code",
   "execution_count": 27,
   "metadata": {},
   "outputs": [
    {
     "data": {
      "text/plain": [
       "(20    4469\n",
       " 15    2294\n",
       " 25     854\n",
       " 10     108\n",
       " 30      46\n",
       " Name: Price, dtype: int64,\n",
       " 5)"
      ]
     },
     "execution_count": 27,
     "metadata": {},
     "output_type": "execute_result"
    }
   ],
   "source": [
    "t = df[df.Model=='ACCORD'].Price.value_counts()\n",
    "t, len(t)"
   ]
  },
  {
   "cell_type": "code",
   "execution_count": 28,
   "metadata": {},
   "outputs": [
    {
     "data": {
      "text/plain": [
       "(15    3771\n",
       " 20    3087\n",
       " 10     183\n",
       " 25      58\n",
       " 30       1\n",
       " Name: Price, dtype: int64,\n",
       " 5)"
      ]
     },
     "execution_count": 28,
     "metadata": {},
     "output_type": "execute_result"
    }
   ],
   "source": [
    "t = df[df.Model=='MALIBU'].Price.value_counts()\n",
    "t, len(t)"
   ]
  },
  {
   "cell_type": "code",
   "execution_count": 29,
   "metadata": {},
   "outputs": [
    {
     "data": {
      "text/plain": [
       "(PT CRUISER    5.5\n",
       " FOCUS         5.2\n",
       " ION           3.8\n",
       " COBALT        3.1\n",
       " COROLLA       3.0\n",
       "              ... \n",
       " SOUL          0.0\n",
       " C70           0.0\n",
       " EDGE          0.0\n",
       " RL            0.0\n",
       " BOXSTER       0.0\n",
       " Name: Model, Length: 326, dtype: float64,\n",
       " 326)"
      ]
     },
     "execution_count": 29,
     "metadata": {},
     "output_type": "execute_result"
    }
   ],
   "source": [
    "t = round(df[df.Price==10].Model.value_counts(normalize=True) * 100, 1)\n",
    "t, len(t)"
   ]
  },
  {
   "cell_type": "code",
   "execution_count": 30,
   "metadata": {},
   "outputs": [
    {
     "data": {
      "text/plain": [
       "(COROLLA    4.6\n",
       " VERSA      4.1\n",
       " MALIBU     3.7\n",
       " SENTRA     3.6\n",
       " CIVIC      3.4\n",
       "           ... \n",
       " RX-7       0.0\n",
       " CABRIO     0.0\n",
       " TT         0.0\n",
       " G37        0.0\n",
       " R350       0.0\n",
       " Name: Model, Length: 418, dtype: float64,\n",
       " 418)"
      ]
     },
     "execution_count": 30,
     "metadata": {},
     "output_type": "execute_result"
    }
   ],
   "source": [
    "t = round(df[df.Price==15].Model.value_counts(normalize=True) * 100, 1)\n",
    "t, len(t)"
   ]
  },
  {
   "cell_type": "code",
   "execution_count": 31,
   "metadata": {},
   "outputs": [
    {
     "data": {
      "text/plain": [
       "(ALTIMA     6.4\n",
       " CAMRY      4.4\n",
       " ACCORD     3.8\n",
       " ROGUE      2.8\n",
       " MALIBU     2.6\n",
       "           ... \n",
       " C/V        0.0\n",
       " MONTEGO    0.0\n",
       " CELICA     0.0\n",
       " 540        0.0\n",
       " E55 AMG    0.0\n",
       " Name: Model, Length: 413, dtype: float64,\n",
       " 413)"
      ]
     },
     "execution_count": 31,
     "metadata": {},
     "output_type": "execute_result"
    }
   ],
   "source": [
    "t = round(df[df.Price==20].Model.value_counts(normalize=True) * 100, 1)\n",
    "t, len(t)"
   ]
  },
  {
   "cell_type": "code",
   "execution_count": 32,
   "metadata": {},
   "outputs": [
    {
     "data": {
      "text/plain": [
       "(MAXIMA              3.2\n",
       " C300                2.9\n",
       " 328                 2.7\n",
       " TOWN AND COUNTRY    2.5\n",
       " F150                2.3\n",
       "                    ... \n",
       " YUKON XL 2500       0.0\n",
       " S550                0.0\n",
       " C55 AMG             0.0\n",
       " X-TYPE              0.0\n",
       " SILVERADO 3500      0.0\n",
       " Name: Model, Length: 370, dtype: float64,\n",
       " 370)"
      ]
     },
     "execution_count": 32,
     "metadata": {},
     "output_type": "execute_result"
    }
   ],
   "source": [
    "t = round(df[df.Price==25].Model.value_counts(normalize=True) * 100, 1)\n",
    "t, len(t)"
   ]
  },
  {
   "cell_type": "code",
   "execution_count": 33,
   "metadata": {},
   "outputs": [
    {
     "data": {
      "text/plain": [
       "(C300           4.5\n",
       " F150           3.4\n",
       " G37            3.2\n",
       " EDGE           3.1\n",
       " 328            2.9\n",
       "               ... \n",
       " G35            0.0\n",
       " FOCUS          0.0\n",
       " VIPER          0.0\n",
       " BEETLE         0.0\n",
       " THUNDERBIRD    0.0\n",
       " Name: Model, Length: 304, dtype: float64,\n",
       " 304)"
      ]
     },
     "execution_count": 33,
     "metadata": {},
     "output_type": "execute_result"
    }
   ],
   "source": [
    "t = round(df[df.Price==30].Model.value_counts(normalize=True) * 100, 1)\n",
    "t, len(t)"
   ]
  },
  {
   "cell_type": "code",
   "execution_count": 34,
   "metadata": {},
   "outputs": [
    {
     "data": {
      "text/plain": [
       "(E350        4.0\n",
       " F150        3.8\n",
       " RX 350      3.5\n",
       " ML350       2.6\n",
       " EXPLORER    2.6\n",
       "            ... \n",
       " GX 460      0.0\n",
       " G500        0.0\n",
       " OPTIMA      0.0\n",
       " STS         0.0\n",
       " H1          0.0\n",
       " Name: Model, Length: 253, dtype: float64,\n",
       " 253)"
      ]
     },
     "execution_count": 34,
     "metadata": {},
     "output_type": "execute_result"
    }
   ],
   "source": [
    "t = round(df[df.Price==35].Model.value_counts(normalize=True) * 100, 1)\n",
    "t, len(t)"
   ]
  },
  {
   "cell_type": "code",
   "execution_count": 35,
   "metadata": {},
   "outputs": [
    {
     "data": {
      "text/plain": [
       "(E350             5.0\n",
       " F150             4.8\n",
       " TAHOE            3.9\n",
       " X5               3.1\n",
       " SUBURBAN 1500    3.0\n",
       "                 ... \n",
       " H1               0.0\n",
       " CL55 AMG         0.0\n",
       " EX37             0.0\n",
       " TAURUS           0.0\n",
       " S80              0.0\n",
       " Name: Model, Length: 196, dtype: float64,\n",
       " 196)"
      ]
     },
     "execution_count": 35,
     "metadata": {},
     "output_type": "execute_result"
    }
   ],
   "source": [
    "t = round(df[df.Price==40].Model.value_counts(normalize=True) * 100, 1)\n",
    "t, len(t)"
   ]
  },
  {
   "cell_type": "code",
   "execution_count": 36,
   "metadata": {},
   "outputs": [
    {
     "data": {
      "text/plain": [
       "(X5          4.2\n",
       " F150        3.5\n",
       " CORVETTE    3.5\n",
       " ESCALADE    3.5\n",
       " GL450       3.2\n",
       "            ... \n",
       " ES 350      0.0\n",
       " FX37        0.0\n",
       " C250        0.0\n",
       " 370Z        0.0\n",
       " MKT         0.0\n",
       " Name: Model, Length: 148, dtype: float64,\n",
       " 148)"
      ]
     },
     "execution_count": 36,
     "metadata": {},
     "output_type": "execute_result"
    }
   ],
   "source": [
    "t = round(df[df.Price==45].Model.value_counts(normalize=True) * 100, 1)\n",
    "t, len(t)"
   ]
  },
  {
   "cell_type": "code",
   "execution_count": 37,
   "metadata": {},
   "outputs": [
    {
     "data": {
      "text/plain": [
       "(CORVETTE             4.4\n",
       " ESCALADE             4.1\n",
       " RANGE ROVER SPORT    3.5\n",
       " M3                   3.4\n",
       " 750                  3.2\n",
       "                     ... \n",
       " SL600                0.1\n",
       " 1M                   0.1\n",
       " QX60                 0.1\n",
       " G37                  0.1\n",
       " TT                   0.1\n",
       " Name: Model, Length: 111, dtype: float64,\n",
       " 111)"
      ]
     },
     "execution_count": 37,
     "metadata": {},
     "output_type": "execute_result"
    }
   ],
   "source": [
    "t = round(df[df.Price==50].Model.value_counts(normalize=True) * 100, 1)\n",
    "t, len(t)"
   ]
  },
  {
   "cell_type": "code",
   "execution_count": 38,
   "metadata": {},
   "outputs": [
    {
     "data": {
      "text/plain": [
       "(CAMRY             16.3\n",
       " COROLLA           10.7\n",
       " GRAND CHEROKEE     9.9\n",
       " ALTIMA             8.3\n",
       " MUSTANG            4.5\n",
       "                   ... \n",
       " CADENZA            0.1\n",
       " S60                0.1\n",
       " C63 AMG            0.1\n",
       " E350               0.1\n",
       " YUKON XL 1500      0.1\n",
       " Name: Model, Length: 71, dtype: float64,\n",
       " 71)"
      ]
     },
     "execution_count": 38,
     "metadata": {},
     "output_type": "execute_result"
    }
   ],
   "source": [
    "t = round(df[df.Years==0].Model.value_counts(normalize=True) * 100, 1)\n",
    "t, len(t)"
   ]
  },
  {
   "cell_type": "code",
   "execution_count": 39,
   "metadata": {},
   "outputs": [
    {
     "data": {
      "text/plain": [
       "(ALTIMA           4.0\n",
       " ACCORD           2.6\n",
       " CAMRY            2.6\n",
       " COROLLA          2.4\n",
       " 328              2.4\n",
       "                 ... \n",
       " S8               0.0\n",
       " ASPEN HYBRID     0.0\n",
       " SIERRA 3500      0.0\n",
       " SUBURBAN 2500    0.0\n",
       " R8               0.0\n",
       " Name: Model, Length: 330, dtype: float64,\n",
       " 330)"
      ]
     },
     "execution_count": 39,
     "metadata": {},
     "output_type": "execute_result"
    }
   ],
   "source": [
    "t = round(df[df.Years==5].Model.value_counts(normalize=True) * 100, 1)\n",
    "t, len(t)"
   ]
  },
  {
   "cell_type": "code",
   "execution_count": 40,
   "metadata": {},
   "outputs": [
    {
     "data": {
      "text/plain": [
       "(ACCORD         3.5\n",
       " RX 330         2.6\n",
       " G35            2.4\n",
       " CAMRY          2.0\n",
       " F150           2.0\n",
       "               ... \n",
       " B2300          0.0\n",
       " MONTANA        0.0\n",
       " VERONA         0.0\n",
       " XK8            0.0\n",
       " SAVANA 3500    0.0\n",
       " Name: Model, Length: 266, dtype: float64,\n",
       " 266)"
      ]
     },
     "execution_count": 40,
     "metadata": {},
     "output_type": "execute_result"
    }
   ],
   "source": [
    "t = round(df[df.Years==10].Model.value_counts(normalize=True) * 100, 1)\n",
    "t, len(t)"
   ]
  },
  {
   "cell_type": "code",
   "execution_count": 41,
   "metadata": {},
   "outputs": [
    {
     "data": {
      "text/plain": [
       "(WRANGLER    16.7\n",
       " 911         16.7\n",
       " CAMARO       8.3\n",
       " TACOMA       8.3\n",
       " RAM 3500     8.3\n",
       " GS 300       8.3\n",
       " 4RUNNER      8.3\n",
       " C43 AMG      8.3\n",
       " BOXSTER      8.3\n",
       " RAM 2500     8.3\n",
       " Name: Model, dtype: float64,\n",
       " 10)"
      ]
     },
     "execution_count": 41,
     "metadata": {},
     "output_type": "execute_result"
    }
   ],
   "source": [
    "t = round(df[df.Years==15].Model.value_counts(normalize=True) * 100, 1)\n",
    "t, len(t)"
   ]
  },
  {
   "cell_type": "code",
   "execution_count": null,
   "metadata": {},
   "outputs": [],
   "source": []
  }
 ],
 "metadata": {
  "kernelspec": {
   "display_name": "Python 3",
   "language": "python",
   "name": "python3"
  },
  "language_info": {
   "codemirror_mode": {
    "name": "ipython",
    "version": 3
   },
   "file_extension": ".py",
   "mimetype": "text/x-python",
   "name": "python",
   "nbconvert_exporter": "python",
   "pygments_lexer": "ipython3",
   "version": "3.7.7"
  }
 },
 "nbformat": 4,
 "nbformat_minor": 4
}
