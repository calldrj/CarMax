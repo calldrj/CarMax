{
 "cells": [
  {
   "cell_type": "code",
   "execution_count": 1,
   "metadata": {},
   "outputs": [
    {
     "data": {
      "text/html": [
       "<div>\n",
       "<style scoped>\n",
       "    .dataframe tbody tr th:only-of-type {\n",
       "        vertical-align: middle;\n",
       "    }\n",
       "\n",
       "    .dataframe tbody tr th {\n",
       "        vertical-align: top;\n",
       "    }\n",
       "\n",
       "    .dataframe thead th {\n",
       "        text-align: right;\n",
       "    }\n",
       "</style>\n",
       "<table border=\"1\" class=\"dataframe\">\n",
       "  <thead>\n",
       "    <tr style=\"text-align: right;\">\n",
       "      <th></th>\n",
       "      <th>insert_num</th>\n",
       "      <th>purchase_make</th>\n",
       "      <th>purchase_model</th>\n",
       "      <th>purchase_vehicle_year</th>\n",
       "      <th>purchase_price</th>\n",
       "      <th>trade_in</th>\n",
       "      <th>vehicle_financing</th>\n",
       "      <th>customer_age</th>\n",
       "      <th>customer_income</th>\n",
       "      <th>customer_gender</th>\n",
       "      <th>customer_previous_purchase</th>\n",
       "      <th>customer_distance_to_dealer</th>\n",
       "      <th>post_purchase_satisfaction</th>\n",
       "      <th>vehicle_warranty_used</th>\n",
       "      <th>subsequent_purchases</th>\n",
       "    </tr>\n",
       "  </thead>\n",
       "  <tbody>\n",
       "    <tr>\n",
       "      <th>0</th>\n",
       "      <td>81690</td>\n",
       "      <td>DODGE</td>\n",
       "      <td>CHARGER</td>\n",
       "      <td>2012</td>\n",
       "      <td>15001 - 20000</td>\n",
       "      <td>1</td>\n",
       "      <td>1</td>\n",
       "      <td>21 - 30</td>\n",
       "      <td>40001 - 60000</td>\n",
       "      <td>U</td>\n",
       "      <td>0</td>\n",
       "      <td>8</td>\n",
       "      <td>?</td>\n",
       "      <td>0</td>\n",
       "      <td>1</td>\n",
       "    </tr>\n",
       "    <tr>\n",
       "      <th>1</th>\n",
       "      <td>109994</td>\n",
       "      <td>FORD</td>\n",
       "      <td>F150</td>\n",
       "      <td>2007</td>\n",
       "      <td>15001 - 20000</td>\n",
       "      <td>0</td>\n",
       "      <td>0</td>\n",
       "      <td>51 - 60</td>\n",
       "      <td>0 - 20000</td>\n",
       "      <td>F</td>\n",
       "      <td>1</td>\n",
       "      <td>19</td>\n",
       "      <td>?</td>\n",
       "      <td>0</td>\n",
       "      <td>0</td>\n",
       "    </tr>\n",
       "    <tr>\n",
       "      <th>2</th>\n",
       "      <td>11399</td>\n",
       "      <td>BMW</td>\n",
       "      <td>328</td>\n",
       "      <td>2010</td>\n",
       "      <td>25001 - 30000</td>\n",
       "      <td>1</td>\n",
       "      <td>1</td>\n",
       "      <td>41 - 50</td>\n",
       "      <td>60001 - 80000</td>\n",
       "      <td>F</td>\n",
       "      <td>1</td>\n",
       "      <td>21</td>\n",
       "      <td>?</td>\n",
       "      <td>0</td>\n",
       "      <td>0</td>\n",
       "    </tr>\n",
       "    <tr>\n",
       "      <th>3</th>\n",
       "      <td>214156</td>\n",
       "      <td>LEXUS</td>\n",
       "      <td>GS 300</td>\n",
       "      <td>2003</td>\n",
       "      <td>10001 - 15000</td>\n",
       "      <td>0</td>\n",
       "      <td>1</td>\n",
       "      <td>21 - 30</td>\n",
       "      <td>20001 - 40000</td>\n",
       "      <td>M</td>\n",
       "      <td>0</td>\n",
       "      <td>8</td>\n",
       "      <td>?</td>\n",
       "      <td>0</td>\n",
       "      <td>0</td>\n",
       "    </tr>\n",
       "    <tr>\n",
       "      <th>4</th>\n",
       "      <td>36685</td>\n",
       "      <td>CHEVROLET</td>\n",
       "      <td>CRUZE</td>\n",
       "      <td>2012</td>\n",
       "      <td>15001 - 20000</td>\n",
       "      <td>1</td>\n",
       "      <td>1</td>\n",
       "      <td>31 - 40</td>\n",
       "      <td>120001 - 140000</td>\n",
       "      <td>M</td>\n",
       "      <td>1</td>\n",
       "      <td>5</td>\n",
       "      <td>?</td>\n",
       "      <td>1</td>\n",
       "      <td>1</td>\n",
       "    </tr>\n",
       "    <tr>\n",
       "      <th>...</th>\n",
       "      <td>...</td>\n",
       "      <td>...</td>\n",
       "      <td>...</td>\n",
       "      <td>...</td>\n",
       "      <td>...</td>\n",
       "      <td>...</td>\n",
       "      <td>...</td>\n",
       "      <td>...</td>\n",
       "      <td>...</td>\n",
       "      <td>...</td>\n",
       "      <td>...</td>\n",
       "      <td>...</td>\n",
       "      <td>...</td>\n",
       "      <td>...</td>\n",
       "      <td>...</td>\n",
       "    </tr>\n",
       "    <tr>\n",
       "      <th>355869</th>\n",
       "      <td>195314</td>\n",
       "      <td>JEEP</td>\n",
       "      <td>LIBERTY</td>\n",
       "      <td>2010</td>\n",
       "      <td>15001 - 20000</td>\n",
       "      <td>0</td>\n",
       "      <td>1</td>\n",
       "      <td>21 - 30</td>\n",
       "      <td>20001 - 40000</td>\n",
       "      <td>F</td>\n",
       "      <td>0</td>\n",
       "      <td>13</td>\n",
       "      <td>?</td>\n",
       "      <td>0</td>\n",
       "      <td>0</td>\n",
       "    </tr>\n",
       "    <tr>\n",
       "      <th>355870</th>\n",
       "      <td>58219</td>\n",
       "      <td>CHEVROLET</td>\n",
       "      <td>SONIC</td>\n",
       "      <td>2012</td>\n",
       "      <td>10001 - 15000</td>\n",
       "      <td>1</td>\n",
       "      <td>0</td>\n",
       "      <td>71 - 80</td>\n",
       "      <td>?</td>\n",
       "      <td>U</td>\n",
       "      <td>0</td>\n",
       "      <td>2</td>\n",
       "      <td>?</td>\n",
       "      <td>0</td>\n",
       "      <td>0</td>\n",
       "    </tr>\n",
       "    <tr>\n",
       "      <th>355871</th>\n",
       "      <td>207386</td>\n",
       "      <td>KIA</td>\n",
       "      <td>SORENTO</td>\n",
       "      <td>2012</td>\n",
       "      <td>15001 - 20000</td>\n",
       "      <td>1</td>\n",
       "      <td>1</td>\n",
       "      <td>61 - 70</td>\n",
       "      <td>20001 - 40000</td>\n",
       "      <td>F</td>\n",
       "      <td>1</td>\n",
       "      <td>9</td>\n",
       "      <td>?</td>\n",
       "      <td>0</td>\n",
       "      <td>1</td>\n",
       "    </tr>\n",
       "    <tr>\n",
       "      <th>355872</th>\n",
       "      <td>252391</td>\n",
       "      <td>NISSAN</td>\n",
       "      <td>350Z</td>\n",
       "      <td>2003</td>\n",
       "      <td>10001 - 15000</td>\n",
       "      <td>0</td>\n",
       "      <td>1</td>\n",
       "      <td>21 - 30</td>\n",
       "      <td>40001 - 60000</td>\n",
       "      <td>M</td>\n",
       "      <td>0</td>\n",
       "      <td>5</td>\n",
       "      <td>?</td>\n",
       "      <td>0</td>\n",
       "      <td>0</td>\n",
       "    </tr>\n",
       "    <tr>\n",
       "      <th>355873</th>\n",
       "      <td>52652</td>\n",
       "      <td>CHEVROLET</td>\n",
       "      <td>MALIBU</td>\n",
       "      <td>2012</td>\n",
       "      <td>15001 - 20000</td>\n",
       "      <td>1</td>\n",
       "      <td>1</td>\n",
       "      <td>31 - 40</td>\n",
       "      <td>?</td>\n",
       "      <td>M</td>\n",
       "      <td>0</td>\n",
       "      <td>9</td>\n",
       "      <td>?</td>\n",
       "      <td>0</td>\n",
       "      <td>0</td>\n",
       "    </tr>\n",
       "  </tbody>\n",
       "</table>\n",
       "<p>355874 rows × 15 columns</p>\n",
       "</div>"
      ],
      "text/plain": [
       "        insert_num purchase_make purchase_model  purchase_vehicle_year  \\\n",
       "0            81690         DODGE        CHARGER                   2012   \n",
       "1           109994          FORD           F150                   2007   \n",
       "2            11399           BMW            328                   2010   \n",
       "3           214156         LEXUS         GS 300                   2003   \n",
       "4            36685     CHEVROLET          CRUZE                   2012   \n",
       "...            ...           ...            ...                    ...   \n",
       "355869      195314          JEEP        LIBERTY                   2010   \n",
       "355870       58219     CHEVROLET          SONIC                   2012   \n",
       "355871      207386           KIA        SORENTO                   2012   \n",
       "355872      252391        NISSAN           350Z                   2003   \n",
       "355873       52652     CHEVROLET         MALIBU                   2012   \n",
       "\n",
       "       purchase_price  trade_in  vehicle_financing customer_age  \\\n",
       "0       15001 - 20000         1                  1      21 - 30   \n",
       "1       15001 - 20000         0                  0      51 - 60   \n",
       "2       25001 - 30000         1                  1      41 - 50   \n",
       "3       10001 - 15000         0                  1      21 - 30   \n",
       "4       15001 - 20000         1                  1      31 - 40   \n",
       "...               ...       ...                ...          ...   \n",
       "355869  15001 - 20000         0                  1      21 - 30   \n",
       "355870  10001 - 15000         1                  0      71 - 80   \n",
       "355871  15001 - 20000         1                  1      61 - 70   \n",
       "355872  10001 - 15000         0                  1      21 - 30   \n",
       "355873  15001 - 20000         1                  1      31 - 40   \n",
       "\n",
       "        customer_income customer_gender  customer_previous_purchase  \\\n",
       "0         40001 - 60000               U                           0   \n",
       "1             0 - 20000               F                           1   \n",
       "2         60001 - 80000               F                           1   \n",
       "3         20001 - 40000               M                           0   \n",
       "4       120001 - 140000               M                           1   \n",
       "...                 ...             ...                         ...   \n",
       "355869    20001 - 40000               F                           0   \n",
       "355870                ?               U                           0   \n",
       "355871    20001 - 40000               F                           1   \n",
       "355872    40001 - 60000               M                           0   \n",
       "355873                ?               M                           0   \n",
       "\n",
       "       customer_distance_to_dealer post_purchase_satisfaction  \\\n",
       "0                                8                          ?   \n",
       "1                               19                          ?   \n",
       "2                               21                          ?   \n",
       "3                                8                          ?   \n",
       "4                                5                          ?   \n",
       "...                            ...                        ...   \n",
       "355869                          13                          ?   \n",
       "355870                           2                          ?   \n",
       "355871                           9                          ?   \n",
       "355872                           5                          ?   \n",
       "355873                           9                          ?   \n",
       "\n",
       "        vehicle_warranty_used  subsequent_purchases  \n",
       "0                           0                     1  \n",
       "1                           0                     0  \n",
       "2                           0                     0  \n",
       "3                           0                     0  \n",
       "4                           1                     1  \n",
       "...                       ...                   ...  \n",
       "355869                      0                     0  \n",
       "355870                      0                     0  \n",
       "355871                      0                     1  \n",
       "355872                      0                     0  \n",
       "355873                      0                     0  \n",
       "\n",
       "[355874 rows x 15 columns]"
      ]
     },
     "execution_count": 1,
     "metadata": {},
     "output_type": "execute_result"
    }
   ],
   "source": [
    "import pandas as pd\n",
    "import numpy as np\n",
    "import re\n",
    "import seaborn as sns\n",
    "import matplotlib.pyplot as plt\n",
    "\n",
    "df = pd.read_csv('CaseCompetitionData2021.csv')\n",
    "df"
   ]
  },
  {
   "cell_type": "code",
   "execution_count": 2,
   "metadata": {},
   "outputs": [],
   "source": [
    "def missing_count(data, col):\n",
    "    return data[data[col]=='?'][col].count()\n",
    "\n",
    "def val_count(data, key, plot=True, step=0.5, plotsize=(8,8)):\n",
    "    precision = 1\n",
    "    counts = data.value_counts(normalize=True) * 100\n",
    "    l = len(counts.index) \n",
    "    t = 'Market Share Among {} {} (%)'.format(l, key)\n",
    "    x = np.arange(step, counts.values.max(), step)\n",
    "    if (plot):\n",
    "        counts.plot(kind='barh', figsize=plotsize, title=t, xticks=x)\n",
    "        plt.show()\n",
    "    else:\n",
    "        print(t)\n",
    "    print(round(counts, precision))"
   ]
  },
  {
   "cell_type": "code",
   "execution_count": 3,
   "metadata": {},
   "outputs": [
    {
     "name": "stdout",
     "output_type": "stream",
     "text": [
      "<class 'pandas.core.frame.DataFrame'>\n",
      "RangeIndex: 355874 entries, 0 to 355873\n",
      "Data columns (total 15 columns):\n",
      " #   Column                       Non-Null Count   Dtype \n",
      "---  ------                       --------------   ----- \n",
      " 0   insert_num                   355874 non-null  int64 \n",
      " 1   purchase_make                355874 non-null  object\n",
      " 2   purchase_model               355874 non-null  object\n",
      " 3   purchase_vehicle_year        355874 non-null  int64 \n",
      " 4   purchase_price               355874 non-null  object\n",
      " 5   trade_in                     355874 non-null  int64 \n",
      " 6   vehicle_financing            355874 non-null  int64 \n",
      " 7   customer_age                 355874 non-null  object\n",
      " 8   customer_income              355874 non-null  object\n",
      " 9   customer_gender              355874 non-null  object\n",
      " 10  customer_previous_purchase   355874 non-null  int64 \n",
      " 11  customer_distance_to_dealer  355874 non-null  object\n",
      " 12  post_purchase_satisfaction   355874 non-null  object\n",
      " 13  vehicle_warranty_used        355874 non-null  int64 \n",
      " 14  subsequent_purchases         355874 non-null  int64 \n",
      "dtypes: int64(7), object(8)\n",
      "memory usage: 40.7+ MB\n"
     ]
    }
   ],
   "source": [
    "df.info()"
   ]
  },
  {
   "cell_type": "code",
   "execution_count": 4,
   "metadata": {},
   "outputs": [
    {
     "name": "stdout",
     "output_type": "stream",
     "text": [
      "Number of missing values in column purchase_make: 0\n",
      "Number of missing values in column purchase_model: 0\n",
      "Number of missing values in column purchase_price: 3\n",
      "Number of missing values in column customer_age: 1098\n",
      "Number of missing values in column customer_income: 45998\n",
      "Number of missing values in column customer_gender: 0\n",
      "Number of missing values in column customer_distance_to_dealer: 6103\n",
      "Number of missing values in column post_purchase_satisfaction: 354676\n"
     ]
    }
   ],
   "source": [
    "for col in df.columns:\n",
    "    if df[col].dtype == 'O':\n",
    "        print('Number of missing values in column {}: {}'.\\\n",
    "              format(col, missing_count(df, col)))"
   ]
  },
  {
   "cell_type": "code",
   "execution_count": 5,
   "metadata": {},
   "outputs": [
    {
     "data": {
      "text/plain": [
       "0"
      ]
     },
     "execution_count": 5,
     "metadata": {},
     "output_type": "execute_result"
    }
   ],
   "source": [
    "df.insert_num.isnull().sum()"
   ]
  },
  {
   "cell_type": "code",
   "execution_count": 6,
   "metadata": {},
   "outputs": [
    {
     "data": {
      "image/png": "[encoded data removed]",
      "text/plain": [
       "<Figure size 1152x1152 with 1 Axes>"
      ]
     },
     "metadata": {
      "needs_background": "light"
     },
     "output_type": "display_data"
    },
    {
     "name": "stdout",
     "output_type": "stream",
     "text": [
      "FORD             11.3\n",
      "TOYOTA           11.3\n",
      "NISSAN           11.0\n",
      "CHEVROLET        10.6\n",
      "HONDA             7.5\n",
      "DODGE             5.7\n",
      "HYUNDAI           4.0\n",
      "JEEP              3.3\n",
      "BMW               3.1\n",
      "VOLKSWAGEN        3.0\n",
      "MERCEDES-BENZ     3.0\n",
      "MAZDA             2.8\n",
      "CHRYSLER          2.6\n",
      "KIA               2.6\n",
      "LEXUS             2.5\n",
      "INFINITI          2.0\n",
      "GMC               1.6\n",
      "ACURA             1.3\n",
      "CADILLAC          1.3\n",
      "AUDI              0.9\n",
      "BUICK             0.9\n",
      "MITSUBISHI        0.8\n",
      "MINI              0.8\n",
      "SUBARU            0.8\n",
      "LINCOLN           0.8\n",
      "SCION             0.6\n",
      "SATURN            0.6\n",
      "PONTIAC           0.6\n",
      "MERCURY           0.5\n",
      "VOLVO             0.5\n",
      "SUZUKI            0.4\n",
      "LAND ROVER        0.3\n",
      "PORSCHE           0.3\n",
      "FIAT              0.2\n",
      "HUMMER            0.2\n",
      "SMART             0.2\n",
      "JAGUAR            0.2\n",
      "ISUZU             0.0\n",
      "OLDSMOBILE        0.0\n",
      "SAAB              0.0\n",
      "LOTUS             0.0\n",
      "BENTLEY           0.0\n",
      "MASERATI          0.0\n",
      "Name: purchase_make, dtype: float64\n"
     ]
    }
   ],
   "source": [
    "val_count(df.purchase_make, key='Makes', plotsize=(16,16))"
   ]
  },
  {
   "cell_type": "code",
   "execution_count": 7,
   "metadata": {},
   "outputs": [
    {
     "name": "stdout",
     "output_type": "stream",
     "text": [
      "Market Share Among 639 Models (%)\n",
      "ALTIMA            3.2\n",
      "CAMRY             2.7\n",
      "ACCORD            2.2\n",
      "MALIBU            2.0\n",
      "COROLLA           1.8\n",
      "                 ... \n",
      "F550              0.0\n",
      "SUPRA             0.0\n",
      "540               0.0\n",
      "i-MIEV            0.0\n",
      "CONTINENTAL GT    0.0\n",
      "Name: purchase_model, Length: 639, dtype: float64\n"
     ]
    }
   ],
   "source": [
    "val_count(df.purchase_model, key='Models', plot=False)"
   ]
  },
  {
   "cell_type": "code",
   "execution_count": 8,
   "metadata": {},
   "outputs": [
    {
     "data": {
      "image/png": "[encoded data removed]",
      "text/plain": [
       "<Figure size 864x864 with 1 Axes>"
      ]
     },
     "metadata": {
      "needs_background": "light"
     },
     "output_type": "display_data"
    },
    {
     "name": "stdout",
     "output_type": "stream",
     "text": [
      "2010    19.2\n",
      "2012    17.7\n",
      "2011    17.2\n",
      "2008     9.4\n",
      "2007     8.1\n",
      "2009     8.1\n",
      "2013     6.5\n",
      "2006     5.7\n",
      "2005     3.5\n",
      "2004     2.3\n",
      "2003     1.4\n",
      "2002     0.5\n",
      "2014     0.3\n",
      "2001     0.0\n",
      "2000     0.0\n",
      "1999     0.0\n",
      "1995     0.0\n",
      "1998     0.0\n",
      "1996     0.0\n",
      "1993     0.0\n",
      "1988     0.0\n",
      "1997     0.0\n",
      "1986     0.0\n",
      "1985     0.0\n",
      "1971     0.0\n",
      "1969     0.0\n",
      "1966     0.0\n",
      "1953     0.0\n",
      "Name: purchase_vehicle_year, dtype: float64\n"
     ]
    }
   ],
   "source": [
    "val_count(df.purchase_vehicle_year, key='Years', step=2.5, plotsize=(12,12))"
   ]
  },
  {
   "cell_type": "code",
   "execution_count": 9,
   "metadata": {},
   "outputs": [
    {
     "data": {
      "image/png": "[encoded data removed]",
      "text/plain": [
       "<Figure size 864x864 with 1 Axes>"
      ]
     },
     "metadata": {
      "needs_background": "light"
     },
     "output_type": "display_data"
    },
    {
     "name": "stdout",
     "output_type": "stream",
     "text": [
      "15001 - 20000    33.2\n",
      "10001 - 15000    28.4\n",
      "20001 - 25000    18.6\n",
      "25001 - 30000     9.1\n",
      "30001 - 35000     4.3\n",
      "5001 - 10000      2.6\n",
      "35001 - 40000     2.0\n",
      "40001 - 45000     0.9\n",
      "45001 - 50000     0.4\n",
      "50001 - 55000     0.2\n",
      "55001 - 60000     0.1\n",
      "60001 - 65000     0.1\n",
      "65001 - 70000     0.0\n",
      "70001 - 75000     0.0\n",
      "75001 - 80000     0.0\n",
      "85001 - 90000     0.0\n",
      "80001 - 85000     0.0\n",
      "90001 - 95000     0.0\n",
      "?                 0.0\n",
      "Name: purchase_price, dtype: float64\n"
     ]
    }
   ],
   "source": [
    "val_count(df.purchase_price, key='Prices', step=2.5, plotsize=(12,12))"
   ]
  },
  {
   "cell_type": "code",
   "execution_count": 10,
   "metadata": {},
   "outputs": [
    {
     "data": {
      "text/plain": [
       "Index(['insert_num', 'purchase_make', 'purchase_model',\n",
       "       'purchase_vehicle_year', 'purchase_price', 'trade_in',\n",
       "       'vehicle_financing', 'customer_age', 'customer_income',\n",
       "       'customer_gender', 'customer_previous_purchase',\n",
       "       'customer_distance_to_dealer', 'post_purchase_satisfaction',\n",
       "       'vehicle_warranty_used', 'subsequent_purchases'],\n",
       "      dtype='object')"
      ]
     },
     "execution_count": 10,
     "metadata": {},
     "output_type": "execute_result"
    }
   ],
   "source": [
    "df.columns"
   ]
  },
  {
   "cell_type": "code",
   "execution_count": 11,
   "metadata": {},
   "outputs": [
    {
     "data": {
      "text/plain": [
       "0    53.4\n",
       "1    46.6\n",
       "Name: trade_in, dtype: float64"
      ]
     },
     "execution_count": 11,
     "metadata": {},
     "output_type": "execute_result"
    }
   ],
   "source": [
    "round(df.trade_in.value_counts(normalize=True) * 100, 1)"
   ]
  },
  {
   "cell_type": "code",
   "execution_count": 12,
   "metadata": {},
   "outputs": [
    {
     "data": {
      "text/plain": [
       "1    77.9\n",
       "0    22.1\n",
       "Name: vehicle_financing, dtype: float64"
      ]
     },
     "execution_count": 12,
     "metadata": {},
     "output_type": "execute_result"
    }
   ],
   "source": [
    "round(df.vehicle_financing.value_counts(normalize=True) * 100, 1)"
   ]
  },
  {
   "cell_type": "code",
   "execution_count": 13,
   "metadata": {},
   "outputs": [
    {
     "data": {
      "image/png": "[encoded data removed]",
      "text/plain": [
       "<Figure size 864x864 with 1 Axes>"
      ]
     },
     "metadata": {
      "needs_background": "light"
     },
     "output_type": "display_data"
    },
    {
     "name": "stdout",
     "output_type": "stream",
     "text": [
      "31 - 40     24.8\n",
      "41 - 50     23.8\n",
      "21 - 30     23.3\n",
      "51 - 60     15.4\n",
      "61 - 70      7.3\n",
      "71 - 80      2.3\n",
      "0 - 20       1.7\n",
      "81 - 90      0.6\n",
      "101+         0.4\n",
      "?            0.3\n",
      "91 - 100     0.0\n",
      "Name: customer_age, dtype: float64\n"
     ]
    }
   ],
   "source": [
    "val_count(df.customer_age, key='Ages', step=2.5, plotsize=(12,12))"
   ]
  },
  {
   "cell_type": "code",
   "execution_count": 14,
   "metadata": {},
   "outputs": [
    {
     "data": {
      "image/png": "[encoded data removed]",
      "text/plain": [
       "<Figure size 864x864 with 1 Axes>"
      ]
     },
     "metadata": {
      "needs_background": "light"
     },
     "output_type": "display_data"
    },
    {
     "name": "stdout",
     "output_type": "stream",
     "text": [
      "20001 - 40000      22.7\n",
      "40001 - 60000      21.6\n",
      "?                  12.9\n",
      "60001 - 80000      12.0\n",
      "0 - 20000           9.2\n",
      "80001 - 100000      8.3\n",
      "100001 - 120000     4.4\n",
      "200001+             3.1\n",
      "140001 - 160000     2.1\n",
      "120001 - 140000     2.1\n",
      "160001 - 180000     1.1\n",
      "180001 - 200000     0.5\n",
      "Name: customer_income, dtype: float64\n"
     ]
    }
   ],
   "source": [
    "val_count(df.customer_income, key='Incomes', step=2.5, plotsize=(12,12))"
   ]
  },
  {
   "cell_type": "code",
   "execution_count": 15,
   "metadata": {},
   "outputs": [
    {
     "data": {
      "image/png": "[encoded data removed]",
      "text/plain": [
       "<Figure size 432x432 with 1 Axes>"
      ]
     },
     "metadata": {
      "needs_background": "light"
     },
     "output_type": "display_data"
    },
    {
     "name": "stdout",
     "output_type": "stream",
     "text": [
      "M    51.8\n",
      "F    38.2\n",
      "U     9.9\n",
      "Name: customer_gender, dtype: float64\n"
     ]
    }
   ],
   "source": [
    "val_count(df.customer_gender, key='Genders', step=5, plotsize=(6,6))"
   ]
  },
  {
   "cell_type": "code",
   "execution_count": 16,
   "metadata": {},
   "outputs": [
    {
     "data": {
      "text/plain": [
       "0    79.5\n",
       "1    20.5\n",
       "Name: customer_previous_purchase, dtype: float64"
      ]
     },
     "execution_count": 16,
     "metadata": {},
     "output_type": "execute_result"
    }
   ],
   "source": [
    "round(df.customer_previous_purchase.value_counts(normalize=True) * 100, 1)"
   ]
  },
  {
   "cell_type": "code",
   "execution_count": 17,
   "metadata": {},
   "outputs": [
    {
     "data": {
      "text/plain": [
       "?     99.7\n",
       "10     0.2\n",
       "9      0.1\n",
       "8      0.0\n",
       "7      0.0\n",
       "5      0.0\n",
       "6      0.0\n",
       "0      0.0\n",
       "4      0.0\n",
       "3      0.0\n",
       "1      0.0\n",
       "Name: post_purchase_satisfaction, dtype: float64"
      ]
     },
     "execution_count": 17,
     "metadata": {},
     "output_type": "execute_result"
    }
   ],
   "source": [
    "round(df.post_purchase_satisfaction.value_counts(normalize=True) * 100, 1)"
   ]
  },
  {
   "cell_type": "code",
   "execution_count": 18,
   "metadata": {},
   "outputs": [
    {
     "data": {
      "text/plain": [
       "0    74.8\n",
       "1    25.2\n",
       "Name: vehicle_warranty_used, dtype: float64"
      ]
     },
     "execution_count": 18,
     "metadata": {},
     "output_type": "execute_result"
    }
   ],
   "source": [
    "round(df.vehicle_warranty_used.value_counts(normalize=True) * 100, 1)"
   ]
  },
  {
   "cell_type": "code",
   "execution_count": 19,
   "metadata": {},
   "outputs": [
    {
     "data": {
      "text/plain": [
       "0     66.3\n",
       "1     27.1\n",
       "2      2.6\n",
       "3      1.0\n",
       "4      0.9\n",
       "5      0.6\n",
       "7      0.3\n",
       "9      0.3\n",
       "6      0.3\n",
       "8      0.3\n",
       "10     0.3\n",
       "Name: subsequent_purchases, dtype: float64"
      ]
     },
     "execution_count": 19,
     "metadata": {},
     "output_type": "execute_result"
    }
   ],
   "source": [
    "round(df.subsequent_purchases.value_counts(normalize=True) * 100, 1)"
   ]
  },
  {
   "cell_type": "code",
   "execution_count": 20,
   "metadata": {},
   "outputs": [],
   "source": [
    "df['distance'] = df['customer_distance_to_dealer'].apply(lambda x: int(x) if x != '?' else -1)"
   ]
  },
  {
   "cell_type": "code",
   "execution_count": 21,
   "metadata": {},
   "outputs": [
    {
     "data": {
      "image/png": "[encoded data removed]",
      "text/plain": [
       "<Figure size 1152x576 with 1 Axes>"
      ]
     },
     "metadata": {
      "needs_background": "light"
     },
     "output_type": "display_data"
    }
   ],
   "source": [
    "plt.figure().set_size_inches(16, 8) \n",
    "plt.hist(df[df['distance'] < 100]['distance'], histtype='step', bins=50)\n",
    "plt.show()"
   ]
  },
  {
   "cell_type": "code",
   "execution_count": 22,
   "metadata": {},
   "outputs": [],
   "source": [
    "distance_cutoff = [-1, 0, 20, 50, df['distance'].max()]\n",
    "distance_labels = ['Unknown', 'L20', 'L50', 'G50']\n",
    "distance_group  = pd.cut(df.distance, bins=distance_cutoff, labels=distance_labels)\n",
    "df.insert(len(distance_cutoff) + 1, 'distance_bins', distance_group)"
   ]
  },
  {
   "cell_type": "code",
   "execution_count": 23,
   "metadata": {},
   "outputs": [
    {
     "data": {
      "image/png": "[encoded data removed]",
      "text/plain": [
       "<Figure size 864x864 with 1 Axes>"
      ]
     },
     "metadata": {
      "needs_background": "light"
     },
     "output_type": "display_data"
    },
    {
     "name": "stdout",
     "output_type": "stream",
     "text": [
      "< 20       84.1\n",
      "< 50       11.1\n",
      "> 50        4.1\n",
      "unknown     0.6\n",
      "Name: distance_bins, dtype: float64\n"
     ]
    }
   ],
   "source": [
    "val_count(df.distance_bins, key='Distances', step=5, plotsize=(12,12))"
   ]
  },
  {
   "cell_type": "code",
   "execution_count": null,
   "metadata": {},
   "outputs": [],
   "source": []
  }
 ],
 "metadata": {
  "kernelspec": {
   "display_name": "Python 3",
   "language": "python",
   "name": "python3"
  },
  "language_info": {
   "codemirror_mode": {
    "name": "ipython",
    "version": 3
   },
   "file_extension": ".py",
   "mimetype": "text/x-python",
   "name": "python",
   "nbconvert_exporter": "python",
   "pygments_lexer": "ipython3",
   "version": "3.7.7"
  }
 },
 "nbformat": 4,
 "nbformat_minor": 4
}
